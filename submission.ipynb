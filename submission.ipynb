{
 "cells": [
  {
   "cell_type": "code",
   "execution_count": 1,
   "id": "32824d66",
   "metadata": {
    "_cell_guid": "b1076dfc-b9ad-4769-8c92-a6c4dae69d19",
    "_uuid": "8f2839f25d086af736a60e9eeb907d3b93b6e0e5",
    "execution": {
     "iopub.execute_input": "2023-02-17T00:54:13.154917Z",
     "iopub.status.busy": "2023-02-17T00:54:13.154492Z",
     "iopub.status.idle": "2023-02-17T00:54:13.167921Z",
     "shell.execute_reply": "2023-02-17T00:54:13.166582Z"
    },
    "papermill": {
     "duration": 0.024101,
     "end_time": "2023-02-17T00:54:13.170464",
     "exception": false,
     "start_time": "2023-02-17T00:54:13.146363",
     "status": "completed"
    },
    "tags": []
   },
   "outputs": [
    {
     "name": "stdout",
     "output_type": "stream",
     "text": [
      "/kaggle/input/breakthrough-tech-ai-studio-challenge/sample_submission.csv\n",
      "/kaggle/input/breakthrough-tech-ai-studio-challenge/movies_keywords.csv\n",
      "/kaggle/input/breakthrough-tech-ai-studio-challenge/movies_metadata.csv\n",
      "/kaggle/input/breakthrough-tech-ai-studio-challenge/train.csv\n",
      "/kaggle/input/breakthrough-tech-ai-studio-challenge/test.csv\n"
     ]
    }
   ],
   "source": [
    "# This Python 3 environment comes with many helpful analytics libraries installed\n",
    "# It is defined by the kaggle/python Docker image: https://github.com/kaggle/docker-python\n",
    "# For example, here's several helpful packages to load\n",
    "\n",
    "import numpy as np # linear algebra\n",
    "import pandas as pd # data processing, CSV file I/O (e.g. pd.read_csv)\n",
    "\n",
    "# Input data files are available in the read-only \"../input/\" directory\n",
    "# For example, running this (by clicking run or pressing Shift+Enter) will list all files under the input directory\n",
    "\n",
    "import os\n",
    "for dirname, _, filenames in os.walk('/kaggle/input'):\n",
    "    for filename in filenames:\n",
    "        print(os.path.join(dirname, filename))\n",
    "\n",
    "# You can write up to 20GB to the current directory (/kaggle/working/) that gets preserved as output when you create a version using \"Save & Run All\" \n",
    "# You can also write temporary files to /kaggle/temp/, but they won't be saved outside of the current session"
   ]
  },
  {
   "cell_type": "markdown",
   "id": "8c3bf576",
   "metadata": {
    "papermill": {
     "duration": 0.005075,
     "end_time": "2023-02-17T00:54:13.181692",
     "exception": false,
     "start_time": "2023-02-17T00:54:13.176617",
     "status": "completed"
    },
    "tags": []
   },
   "source": [
    "## Train Dataset"
   ]
  },
  {
   "cell_type": "code",
   "execution_count": 2,
   "id": "f035aec8",
   "metadata": {
    "execution": {
     "iopub.execute_input": "2023-02-17T00:54:13.193881Z",
     "iopub.status.busy": "2023-02-17T00:54:13.193208Z",
     "iopub.status.idle": "2023-02-17T00:54:13.265631Z",
     "shell.execute_reply": "2023-02-17T00:54:13.264387Z"
    },
    "papermill": {
     "duration": 0.08072,
     "end_time": "2023-02-17T00:54:13.267577",
     "exception": false,
     "start_time": "2023-02-17T00:54:13.186857",
     "status": "completed"
    },
    "tags": []
   },
   "outputs": [
    {
     "data": {
      "text/html": [
       "<div>\n",
       "<style scoped>\n",
       "    .dataframe tbody tr th:only-of-type {\n",
       "        vertical-align: middle;\n",
       "    }\n",
       "\n",
       "    .dataframe tbody tr th {\n",
       "        vertical-align: top;\n",
       "    }\n",
       "\n",
       "    .dataframe thead th {\n",
       "        text-align: right;\n",
       "    }\n",
       "</style>\n",
       "<table border=\"1\" class=\"dataframe\">\n",
       "  <thead>\n",
       "    <tr style=\"text-align: right;\">\n",
       "      <th></th>\n",
       "      <th>userId_movieId</th>\n",
       "      <th>rating</th>\n",
       "    </tr>\n",
       "  </thead>\n",
       "  <tbody>\n",
       "    <tr>\n",
       "      <th>0</th>\n",
       "      <td>10_1358</td>\n",
       "      <td>0.4</td>\n",
       "    </tr>\n",
       "    <tr>\n",
       "      <th>1</th>\n",
       "      <td>237_1544</td>\n",
       "      <td>0.7</td>\n",
       "    </tr>\n",
       "    <tr>\n",
       "      <th>2</th>\n",
       "      <td>54_373</td>\n",
       "      <td>1.0</td>\n",
       "    </tr>\n",
       "    <tr>\n",
       "      <th>3</th>\n",
       "      <td>11_2053</td>\n",
       "      <td>0.8</td>\n",
       "    </tr>\n",
       "    <tr>\n",
       "      <th>4</th>\n",
       "      <td>183_2524</td>\n",
       "      <td>0.6</td>\n",
       "    </tr>\n",
       "  </tbody>\n",
       "</table>\n",
       "</div>"
      ],
      "text/plain": [
       "  userId_movieId  rating\n",
       "0        10_1358     0.4\n",
       "1       237_1544     0.7\n",
       "2         54_373     1.0\n",
       "3        11_2053     0.8\n",
       "4       183_2524     0.6"
      ]
     },
     "execution_count": 2,
     "metadata": {},
     "output_type": "execute_result"
    }
   ],
   "source": [
    "train = pd.read_csv(\"/kaggle/input/breakthrough-tech-ai-studio-challenge/train.csv\")\n",
    "train.head()"
   ]
  },
  {
   "cell_type": "code",
   "execution_count": 3,
   "id": "1d58277c",
   "metadata": {
    "execution": {
     "iopub.execute_input": "2023-02-17T00:54:13.279945Z",
     "iopub.status.busy": "2023-02-17T00:54:13.279603Z",
     "iopub.status.idle": "2023-02-17T00:54:13.286629Z",
     "shell.execute_reply": "2023-02-17T00:54:13.285619Z"
    },
    "papermill": {
     "duration": 0.01526,
     "end_time": "2023-02-17T00:54:13.288452",
     "exception": false,
     "start_time": "2023-02-17T00:54:13.273192",
     "status": "completed"
    },
    "tags": []
   },
   "outputs": [
    {
     "data": {
      "text/plain": [
       "(70002, 2)"
      ]
     },
     "execution_count": 3,
     "metadata": {},
     "output_type": "execute_result"
    }
   ],
   "source": [
    "train.shape"
   ]
  },
  {
   "cell_type": "code",
   "execution_count": 4,
   "id": "3fae7777",
   "metadata": {
    "execution": {
     "iopub.execute_input": "2023-02-17T00:54:13.302193Z",
     "iopub.status.busy": "2023-02-17T00:54:13.301632Z",
     "iopub.status.idle": "2023-02-17T00:54:26.370146Z",
     "shell.execute_reply": "2023-02-17T00:54:26.368951Z"
    },
    "papermill": {
     "duration": 13.078453,
     "end_time": "2023-02-17T00:54:26.372911",
     "exception": false,
     "start_time": "2023-02-17T00:54:13.294458",
     "status": "completed"
    },
    "tags": []
   },
   "outputs": [
    {
     "data": {
      "text/html": [
       "<div>\n",
       "<style scoped>\n",
       "    .dataframe tbody tr th:only-of-type {\n",
       "        vertical-align: middle;\n",
       "    }\n",
       "\n",
       "    .dataframe tbody tr th {\n",
       "        vertical-align: top;\n",
       "    }\n",
       "\n",
       "    .dataframe thead th {\n",
       "        text-align: right;\n",
       "    }\n",
       "</style>\n",
       "<table border=\"1\" class=\"dataframe\">\n",
       "  <thead>\n",
       "    <tr style=\"text-align: right;\">\n",
       "      <th></th>\n",
       "      <th>rating</th>\n",
       "      <th>userId</th>\n",
       "      <th>movieId</th>\n",
       "    </tr>\n",
       "  </thead>\n",
       "  <tbody>\n",
       "    <tr>\n",
       "      <th>0</th>\n",
       "      <td>0.4</td>\n",
       "      <td>10</td>\n",
       "      <td>1358</td>\n",
       "    </tr>\n",
       "    <tr>\n",
       "      <th>1</th>\n",
       "      <td>0.7</td>\n",
       "      <td>237</td>\n",
       "      <td>1544</td>\n",
       "    </tr>\n",
       "    <tr>\n",
       "      <th>2</th>\n",
       "      <td>1.0</td>\n",
       "      <td>54</td>\n",
       "      <td>373</td>\n",
       "    </tr>\n",
       "    <tr>\n",
       "      <th>3</th>\n",
       "      <td>0.8</td>\n",
       "      <td>11</td>\n",
       "      <td>2053</td>\n",
       "    </tr>\n",
       "    <tr>\n",
       "      <th>4</th>\n",
       "      <td>0.6</td>\n",
       "      <td>183</td>\n",
       "      <td>2524</td>\n",
       "    </tr>\n",
       "  </tbody>\n",
       "</table>\n",
       "</div>"
      ],
      "text/plain": [
       "   rating userId movieId\n",
       "0     0.4     10    1358\n",
       "1     0.7    237    1544\n",
       "2     1.0     54     373\n",
       "3     0.8     11    2053\n",
       "4     0.6    183    2524"
      ]
     },
     "execution_count": 4,
     "metadata": {},
     "output_type": "execute_result"
    }
   ],
   "source": [
    "#split \"userId_movieId\" column to two 'userId', 'movieId'\n",
    "train[['userId', 'movieId']] = train[\"userId_movieId\"].apply(lambda x: pd.Series(str(x).split(\"_\")))\n",
    "train = train.drop('userId_movieId', axis=1)\n",
    "train.head()"
   ]
  },
  {
   "cell_type": "code",
   "execution_count": 5,
   "id": "289a92fd",
   "metadata": {
    "execution": {
     "iopub.execute_input": "2023-02-17T00:54:26.386440Z",
     "iopub.status.busy": "2023-02-17T00:54:26.386063Z",
     "iopub.status.idle": "2023-02-17T00:54:26.397164Z",
     "shell.execute_reply": "2023-02-17T00:54:26.396357Z"
    },
    "papermill": {
     "duration": 0.020651,
     "end_time": "2023-02-17T00:54:26.399568",
     "exception": false,
     "start_time": "2023-02-17T00:54:26.378917",
     "status": "completed"
    },
    "tags": []
   },
   "outputs": [],
   "source": [
    "train.insert(loc=3, column='rating_', value=train['rating'])\n",
    "train = train.drop(['rating'], axis=1)\n",
    "train.rename(columns={\"rating_\": \"rating\"}, inplace=True)"
   ]
  },
  {
   "cell_type": "code",
   "execution_count": 6,
   "id": "f2b6e08b",
   "metadata": {
    "execution": {
     "iopub.execute_input": "2023-02-17T00:54:26.414418Z",
     "iopub.status.busy": "2023-02-17T00:54:26.412976Z",
     "iopub.status.idle": "2023-02-17T00:54:26.423962Z",
     "shell.execute_reply": "2023-02-17T00:54:26.423042Z"
    },
    "papermill": {
     "duration": 0.02087,
     "end_time": "2023-02-17T00:54:26.426572",
     "exception": false,
     "start_time": "2023-02-17T00:54:26.405702",
     "status": "completed"
    },
    "tags": []
   },
   "outputs": [
    {
     "data": {
      "text/html": [
       "<div>\n",
       "<style scoped>\n",
       "    .dataframe tbody tr th:only-of-type {\n",
       "        vertical-align: middle;\n",
       "    }\n",
       "\n",
       "    .dataframe tbody tr th {\n",
       "        vertical-align: top;\n",
       "    }\n",
       "\n",
       "    .dataframe thead th {\n",
       "        text-align: right;\n",
       "    }\n",
       "</style>\n",
       "<table border=\"1\" class=\"dataframe\">\n",
       "  <thead>\n",
       "    <tr style=\"text-align: right;\">\n",
       "      <th></th>\n",
       "      <th>userId</th>\n",
       "      <th>movieId</th>\n",
       "      <th>rating</th>\n",
       "    </tr>\n",
       "  </thead>\n",
       "  <tbody>\n",
       "    <tr>\n",
       "      <th>0</th>\n",
       "      <td>10</td>\n",
       "      <td>1358</td>\n",
       "      <td>0.4</td>\n",
       "    </tr>\n",
       "    <tr>\n",
       "      <th>1</th>\n",
       "      <td>237</td>\n",
       "      <td>1544</td>\n",
       "      <td>0.7</td>\n",
       "    </tr>\n",
       "    <tr>\n",
       "      <th>2</th>\n",
       "      <td>54</td>\n",
       "      <td>373</td>\n",
       "      <td>1.0</td>\n",
       "    </tr>\n",
       "    <tr>\n",
       "      <th>3</th>\n",
       "      <td>11</td>\n",
       "      <td>2053</td>\n",
       "      <td>0.8</td>\n",
       "    </tr>\n",
       "    <tr>\n",
       "      <th>4</th>\n",
       "      <td>183</td>\n",
       "      <td>2524</td>\n",
       "      <td>0.6</td>\n",
       "    </tr>\n",
       "  </tbody>\n",
       "</table>\n",
       "</div>"
      ],
      "text/plain": [
       "  userId movieId  rating\n",
       "0     10    1358     0.4\n",
       "1    237    1544     0.7\n",
       "2     54     373     1.0\n",
       "3     11    2053     0.8\n",
       "4    183    2524     0.6"
      ]
     },
     "execution_count": 6,
     "metadata": {},
     "output_type": "execute_result"
    }
   ],
   "source": [
    "train.head()"
   ]
  },
  {
   "cell_type": "code",
   "execution_count": 7,
   "id": "28372414",
   "metadata": {
    "execution": {
     "iopub.execute_input": "2023-02-17T00:54:26.440028Z",
     "iopub.status.busy": "2023-02-17T00:54:26.439677Z",
     "iopub.status.idle": "2023-02-17T00:54:26.473109Z",
     "shell.execute_reply": "2023-02-17T00:54:26.471356Z"
    },
    "papermill": {
     "duration": 0.043382,
     "end_time": "2023-02-17T00:54:26.476019",
     "exception": false,
     "start_time": "2023-02-17T00:54:26.432637",
     "status": "completed"
    },
    "tags": []
   },
   "outputs": [
    {
     "name": "stdout",
     "output_type": "stream",
     "text": [
      "<class 'pandas.core.frame.DataFrame'>\n",
      "RangeIndex: 70002 entries, 0 to 70001\n",
      "Data columns (total 3 columns):\n",
      " #   Column   Non-Null Count  Dtype  \n",
      "---  ------   --------------  -----  \n",
      " 0   userId   70002 non-null  object \n",
      " 1   movieId  70002 non-null  object \n",
      " 2   rating   70002 non-null  float64\n",
      "dtypes: float64(1), object(2)\n",
      "memory usage: 1.6+ MB\n"
     ]
    }
   ],
   "source": [
    "#Check for the dtypes and null values in our columns \n",
    "train.info()"
   ]
  },
  {
   "cell_type": "code",
   "execution_count": 8,
   "id": "08e20088",
   "metadata": {
    "execution": {
     "iopub.execute_input": "2023-02-17T00:54:26.491281Z",
     "iopub.status.busy": "2023-02-17T00:54:26.490869Z",
     "iopub.status.idle": "2023-02-17T00:54:26.519542Z",
     "shell.execute_reply": "2023-02-17T00:54:26.518314Z"
    },
    "papermill": {
     "duration": 0.039209,
     "end_time": "2023-02-17T00:54:26.522335",
     "exception": false,
     "start_time": "2023-02-17T00:54:26.483126",
     "status": "completed"
    },
    "tags": []
   },
   "outputs": [],
   "source": [
    "#change the datatype of the id columns from object to integers\n",
    "train = train.astype({\"userId\":\"int\",\"movieId\":\"int\"})"
   ]
  },
  {
   "cell_type": "code",
   "execution_count": 9,
   "id": "22f63e53",
   "metadata": {
    "execution": {
     "iopub.execute_input": "2023-02-17T00:54:26.536438Z",
     "iopub.status.busy": "2023-02-17T00:54:26.536021Z",
     "iopub.status.idle": "2023-02-17T00:54:26.550783Z",
     "shell.execute_reply": "2023-02-17T00:54:26.548957Z"
    },
    "papermill": {
     "duration": 0.024923,
     "end_time": "2023-02-17T00:54:26.553484",
     "exception": false,
     "start_time": "2023-02-17T00:54:26.528561",
     "status": "completed"
    },
    "tags": []
   },
   "outputs": [
    {
     "name": "stdout",
     "output_type": "stream",
     "text": [
      "<class 'pandas.core.frame.DataFrame'>\n",
      "RangeIndex: 70002 entries, 0 to 70001\n",
      "Data columns (total 3 columns):\n",
      " #   Column   Non-Null Count  Dtype  \n",
      "---  ------   --------------  -----  \n",
      " 0   userId   70002 non-null  int64  \n",
      " 1   movieId  70002 non-null  int64  \n",
      " 2   rating   70002 non-null  float64\n",
      "dtypes: float64(1), int64(2)\n",
      "memory usage: 1.6 MB\n"
     ]
    }
   ],
   "source": [
    "train.info()"
   ]
  },
  {
   "cell_type": "markdown",
   "id": "a268fd8b",
   "metadata": {
    "papermill": {
     "duration": 0.006322,
     "end_time": "2023-02-17T00:54:26.566319",
     "exception": false,
     "start_time": "2023-02-17T00:54:26.559997",
     "status": "completed"
    },
    "tags": []
   },
   "source": [
    "## Create a User- Items Interactions Matrix - Collaborative Filtering method"
   ]
  },
  {
   "cell_type": "markdown",
   "id": "79d26820",
   "metadata": {
    "papermill": {
     "duration": 0.006184,
     "end_time": "2023-02-17T00:54:26.579162",
     "exception": false,
     "start_time": "2023-02-17T00:54:26.572978",
     "status": "completed"
    },
    "tags": []
   },
   "source": [
    "Model based collaborative approaches only rely on user-item interactions information and assume a latent model supposed to explain these interactions. Matrix factorization algorithms consists in decomposing the huge and sparse user-item interaction matrix into a product of two smaller and dense matrices: a user-factor matrix (containing users representations) that multiplies a factor-item matrix (containing items representations)."
   ]
  },
  {
   "cell_type": "markdown",
   "id": "9222a86c",
   "metadata": {
    "papermill": {
     "duration": 0.005849,
     "end_time": "2023-02-17T00:54:26.591321",
     "exception": false,
     "start_time": "2023-02-17T00:54:26.585472",
     "status": "completed"
    },
    "tags": []
   },
   "source": [
    "### Singular Value Decomposition (SVD)"
   ]
  },
  {
   "cell_type": "code",
   "execution_count": 10,
   "id": "1b68787d",
   "metadata": {
    "execution": {
     "iopub.execute_input": "2023-02-17T00:54:26.605861Z",
     "iopub.status.busy": "2023-02-17T00:54:26.605367Z",
     "iopub.status.idle": "2023-02-17T00:54:26.610553Z",
     "shell.execute_reply": "2023-02-17T00:54:26.609210Z"
    },
    "papermill": {
     "duration": 0.016101,
     "end_time": "2023-02-17T00:54:26.613321",
     "exception": false,
     "start_time": "2023-02-17T00:54:26.597220",
     "status": "completed"
    },
    "tags": []
   },
   "outputs": [],
   "source": [
    "from math import sqrt"
   ]
  },
  {
   "cell_type": "code",
   "execution_count": 11,
   "id": "45d54de5",
   "metadata": {
    "execution": {
     "iopub.execute_input": "2023-02-17T00:54:26.627942Z",
     "iopub.status.busy": "2023-02-17T00:54:26.627553Z",
     "iopub.status.idle": "2023-02-17T00:54:26.662062Z",
     "shell.execute_reply": "2023-02-17T00:54:26.660493Z"
    },
    "papermill": {
     "duration": 0.044716,
     "end_time": "2023-02-17T00:54:26.664296",
     "exception": false,
     "start_time": "2023-02-17T00:54:26.619580",
     "status": "completed"
    },
    "tags": []
   },
   "outputs": [],
   "source": [
    "class SVDRecommender:\n",
    "\n",
    "    \"\"\"\n",
    "    Singular Value Decomposition is an important technique used in recommendation systems.\n",
    "    Using SVD, the complete utility matrix is decomposed into user and item features.\n",
    "    Thus the dimensionality of the matrix is reduced and we get the most important features\n",
    "    neglecting the weaker ones.\n",
    "    The utility matrix is initially sparse having a lot of missing values. The missing values\n",
    "    are filled in using the mean for that item.\n",
    "    no_of_features: the number of the biggest features that are to be taken for each user and\n",
    "                    item. default value is 15.\n",
    "    method: 1. default: The mean for the item is deducted from the user-item pair value in\n",
    "                        the utility matrix. SVDRecommender is computed. With the computed values, the\n",
    "                        mean for the item is added back to get the final result.\n",
    "    formatizer: a dict having the keys 'user', 'item' and 'value' each having an integer value\n",
    "                that denotes the column numbers of the corresponding things in the array\n",
    "                provided in the fit and predict method. The 'value' will be used only in the\n",
    "                fit method.\n",
    "    Attributes:\n",
    "                instantiation outside init:\n",
    "                no_of_users=int()\n",
    "                no_of_items=int()\n",
    "                user_index=list()\n",
    "                item_index=list()\n",
    "                Usk=None\n",
    "                skV=None\n",
    "    \"\"\"\n",
    "\n",
    "    def __init__(self,\n",
    "                 no_of_features=15,\n",
    "                 method='default',\n",
    "                 ):\n",
    "        self.parameters={\"no_of_features\", \"method\"}\n",
    "        self.method = method\n",
    "        self.no_of_features = no_of_features\n",
    "\n",
    "\n",
    "    def get_params(self, deep=False):\n",
    "        out=dict()\n",
    "        for param in self.parameters:\n",
    "            out[param]=getattr(self, param)\n",
    "\n",
    "        return out\n",
    "\n",
    "\n",
    "    def set_params(self, **params):\n",
    "\n",
    "        for a in params:\n",
    "            if a in self.parameters:\n",
    "                setattr(self,a,params[a])\n",
    "            else:\n",
    "                raise AttributeError(\"No such attribute exists to be set\")\n",
    "\n",
    "\n",
    "    def create_utility_matrix(self, data, formatizer = {'user':0, 'movie': 1, 'value': 2}):\n",
    "        \"\"\"\n",
    "        :param dataset_array:   Array-like, 2D, nx3\n",
    "        :param indices:         pass the formatizer\n",
    "        :return:                the utility matrix. 2D, n x m, n=users, m=items\n",
    "        \"\"\"\n",
    "        movieField = formatizer['movie']\n",
    "        userField = formatizer['user']\n",
    "        valueField = formatizer['value']\n",
    "\n",
    "        userList = data.loc[:,userField].tolist()\n",
    "        movieList = data.loc[:,movieField].tolist()\n",
    "        valueList = data.loc[:,valueField].tolist()\n",
    "\n",
    "        users = list(set(data.loc[:,userField]))\n",
    "        movies = list(set(data.loc[:,movieField]))\n",
    "\n",
    "        users_index = {users[i]: i for i in range(len(users))}\n",
    "\n",
    "        pd_dict = {movie: [np.nan for i in range(len(users))] for movie in movies}\n",
    "\n",
    "        for i in range(0,len(data)):\n",
    "            movie = movieList[i]\n",
    "            user = userList[i]\n",
    "            value = valueList[i]\n",
    "\n",
    "            pd_dict[movie][users_index[user]] = value\n",
    "\n",
    "        X = pd.DataFrame(pd_dict)\n",
    "        X.index = users\n",
    "\n",
    "        users = list(X.index)\n",
    "        movies = list(X.columns)\n",
    "\n",
    "        return np.array(X), users, movies\n",
    "\n",
    "\n",
    "    def fit(self, user_item_matrix, userList, movieList):\n",
    "\n",
    "        \"\"\"\n",
    "        :param X: nx3 array-like. Each row has three elements in the order given by the\n",
    "                  formatizer. The userId, itemId and the value/rating.\n",
    "               formatizer: to change the default format\n",
    "        :return: Does not return anything. Just fits the data and forms U, s, V by SVDRecommender\n",
    "        \"\"\"\n",
    "\n",
    "        self.users = list(userList)\n",
    "        self.movies = list(movieList)\n",
    "\n",
    "        self.user_index = {self.users[i]: i for i in range(len(self.users))}\n",
    "        self.movie_index = {self.movies[i]: i for i in range(len(self.movies))}\n",
    "\n",
    "\n",
    "        mask=np.isnan(user_item_matrix)\n",
    "        masked_arr=np.ma.masked_array(user_item_matrix, mask)\n",
    "\n",
    "        self.predMask = ~mask\n",
    "\n",
    "        self.movie_means=np.mean(masked_arr, axis=0)\n",
    "        self.user_means=np.mean(masked_arr, axis=1)\n",
    "        self.movie_means_tiled = np.tile(self.movie_means, (user_item_matrix.shape[0],1))\n",
    "\n",
    "        # utility matrix or ratings matrix that can be fed to svd\n",
    "        self.utilMat = masked_arr.filled(self.movie_means)\n",
    "\n",
    "        # for the default method\n",
    "        if self.method=='default':\n",
    "            self.utilMat = self.utilMat - self.movie_means_tiled\n",
    "\n",
    "\n",
    "        # Singular Value Decomposition starts\n",
    "        # k denotes the number of features of each user and item\n",
    "        # the top matrices are cropped to take the greatest k rows or\n",
    "        # columns. U, V, s are already sorted descending.\n",
    "\n",
    "        k = self.no_of_features\n",
    "        U, s, V = np.linalg.svd(self.utilMat, full_matrices=False)\n",
    "\n",
    "        U = U[:,0:k]\n",
    "        V = V[0:k,:]\n",
    "        s_root = np.diag([sqrt(s[i]) for i in range(0,k)])\n",
    "\n",
    "        self.Usk=np.dot(U,s_root)\n",
    "        self.skV=np.dot(s_root,V)\n",
    "        self.UsV = np.dot(self.Usk, self.skV)\n",
    "\n",
    "        self.UsV = self.UsV + self.movie_means_tiled\n",
    "\n",
    "\n",
    "\n",
    "\n",
    "    def predict(self, X, formatizer = {'user': 0, 'movie': 1}):\n",
    "        \"\"\"\n",
    "        :param X: the test set. 2D, array-like consisting of two eleents in each row\n",
    "                  corresponding to the userId and itemId\n",
    "               formatizer: to change the default format\n",
    "        :return: 1D, a list giving the value/rating corresponding to each user-item\n",
    "                 pair in each row of X.\n",
    "        \"\"\"\n",
    "\n",
    "        users = X.loc[:,formatizer['user']].tolist()\n",
    "        movies = X.loc[:,formatizer['movie']].tolist()\n",
    "\n",
    "        if self.method == 'default':\n",
    "\n",
    "            values = []\n",
    "            for i in range(len(users)):\n",
    "                user = users[i]\n",
    "                movie = movies[i]\n",
    "\n",
    "                # user and item in the test set may not always occur in the train set. In these cases\n",
    "                # we can not find those values from the utility matrix.\n",
    "                # That is why a check is necessary.\n",
    "                # 1. both user and item in train\n",
    "                # 2. only user in train\n",
    "                # 3. only item in train\n",
    "                # 4. none in train\n",
    "\n",
    "                if user in self.user_index:\n",
    "                    if movie in self.movie_index:\n",
    "                        values.append( self.UsV[self.user_index[user], self.movie_index[item]] )\n",
    "                    else:\n",
    "                        values.append( self.user_means[ self.user_index[user] ] )\n",
    "\n",
    "                elif movie in self.movie_index and user not in self.user_index:\n",
    "                    values.append( self.movie_means[self.movie_index[movie] ])\n",
    "\n",
    "                else:\n",
    "                    values.append(np.mean(self.movie_means)*0.6 + np.mean(self.user_means)*0.4)\n",
    "\n",
    "        return values\n",
    "\n",
    "\n",
    "    def topN_similar(self, x, column='movie', N=10, weight=True):\n",
    "\n",
    "        \"\"\"\n",
    "        Gives out the most similar contents compared to the input content given. For an user input gives out similar\n",
    "        users. For an item input, gives out the most similar items.\n",
    "        :param x: the identifier string for the user or item.\n",
    "        :param column: either 'user' or 'item'\n",
    "        :param N: The number of best matching similar content to output\n",
    "        :param weight: True or False. True means the feature differences are weighted. Puts more penalty on the differences\n",
    "        between bigger features.\n",
    "        :return: A list of tuples.\n",
    "        \"\"\"\n",
    "        out=list()\n",
    "\n",
    "        if column=='user':\n",
    "            if x not in self.user_index:\n",
    "                raise Exception(\"Invalid user\")\n",
    "            else:\n",
    "                for user in self.user_index:\n",
    "                    if user != x:\n",
    "                        temp = dissimilarity(self.Usk[self.user_index[user],:], self.Usk[self.user_index[x],:], weighted=weight)\n",
    "                        out.append((user, temp))\n",
    "        if column=='movie':\n",
    "            if x not in self.movie_index:\n",
    "                raise Exception(\"Invalid movie\")\n",
    "            else:\n",
    "                for movie in self.item_index:\n",
    "                    if movie != x:\n",
    "                        temp = dissimilarity(self.skV[:, self.movie_index[item]], self.skV[:, self.movie_index[x]], weighted=weight)\n",
    "                        out.append((movie, temp))\n",
    "\n",
    "        out = special_sort(out, order='ascending')\n",
    "        out = out[:N]\n",
    "        return out\n",
    "\n",
    "\n",
    "    def recommend(self, users_list, N=10, values = False):\n",
    "\n",
    "        # utilMat element not zero means that element has already been\n",
    "        # discovered by the user and can not be recommended\n",
    "        predMat = np.ma.masked_where(self.predMask, self.UsV).filled(fill_value=-999)\n",
    "        out = []\n",
    "\n",
    "        if values == True:\n",
    "            for user in users_list:\n",
    "                try:\n",
    "                    j = self.user_index[user]\n",
    "                except:\n",
    "                    raise Exception(\"Invalid user:\", user)\n",
    "                max_indices = predMat[j,:].argsort()[-N:][::-1]\n",
    "                out.append( [(self.movies[index],predMat[j,index]) for index in max_indices ] )\n",
    "\n",
    "        else:\n",
    "            for user in users_list:\n",
    "                try:\n",
    "                    j = self.user_index[user]\n",
    "                except:\n",
    "                    raise Exception(\"Invalid user:\", user)\n",
    "                max_indices = predMat[j,:].argsort()[-N:][::-1]\n",
    "                out.append( [self.items[index] for index in max_indices ] )\n",
    "\n",
    "\n",
    "        return out"
   ]
  },
  {
   "cell_type": "markdown",
   "id": "ac531aed",
   "metadata": {
    "papermill": {
     "duration": 0.005582,
     "end_time": "2023-02-17T00:54:26.676155",
     "exception": false,
     "start_time": "2023-02-17T00:54:26.670573",
     "status": "completed"
    },
    "tags": []
   },
   "source": [
    "### Test"
   ]
  },
  {
   "cell_type": "code",
   "execution_count": 12,
   "id": "ed562063",
   "metadata": {
    "execution": {
     "iopub.execute_input": "2023-02-17T00:54:26.689690Z",
     "iopub.status.busy": "2023-02-17T00:54:26.689322Z",
     "iopub.status.idle": "2023-02-17T00:54:26.724181Z",
     "shell.execute_reply": "2023-02-17T00:54:26.723243Z"
    },
    "papermill": {
     "duration": 0.044432,
     "end_time": "2023-02-17T00:54:26.726586",
     "exception": false,
     "start_time": "2023-02-17T00:54:26.682154",
     "status": "completed"
    },
    "tags": []
   },
   "outputs": [
    {
     "data": {
      "text/html": [
       "<div>\n",
       "<style scoped>\n",
       "    .dataframe tbody tr th:only-of-type {\n",
       "        vertical-align: middle;\n",
       "    }\n",
       "\n",
       "    .dataframe tbody tr th {\n",
       "        vertical-align: top;\n",
       "    }\n",
       "\n",
       "    .dataframe thead th {\n",
       "        text-align: right;\n",
       "    }\n",
       "</style>\n",
       "<table border=\"1\" class=\"dataframe\">\n",
       "  <thead>\n",
       "    <tr style=\"text-align: right;\">\n",
       "      <th></th>\n",
       "      <th>userId_movieId</th>\n",
       "    </tr>\n",
       "  </thead>\n",
       "  <tbody>\n",
       "    <tr>\n",
       "      <th>0</th>\n",
       "      <td>469_2124</td>\n",
       "    </tr>\n",
       "    <tr>\n",
       "      <th>1</th>\n",
       "      <td>439_3753</td>\n",
       "    </tr>\n",
       "    <tr>\n",
       "      <th>2</th>\n",
       "      <td>522_1682</td>\n",
       "    </tr>\n",
       "    <tr>\n",
       "      <th>3</th>\n",
       "      <td>429_1217</td>\n",
       "    </tr>\n",
       "    <tr>\n",
       "      <th>4</th>\n",
       "      <td>71_1210</td>\n",
       "    </tr>\n",
       "  </tbody>\n",
       "</table>\n",
       "</div>"
      ],
      "text/plain": [
       "  userId_movieId\n",
       "0       469_2124\n",
       "1       439_3753\n",
       "2       522_1682\n",
       "3       429_1217\n",
       "4        71_1210"
      ]
     },
     "execution_count": 12,
     "metadata": {},
     "output_type": "execute_result"
    }
   ],
   "source": [
    "test = pd.read_csv(\"/kaggle/input/breakthrough-tech-ai-studio-challenge/test.csv\")\n",
    "test.head()"
   ]
  },
  {
   "cell_type": "code",
   "execution_count": 13,
   "id": "b09e484a",
   "metadata": {
    "execution": {
     "iopub.execute_input": "2023-02-17T00:54:26.741597Z",
     "iopub.status.busy": "2023-02-17T00:54:26.741190Z",
     "iopub.status.idle": "2023-02-17T00:54:32.241083Z",
     "shell.execute_reply": "2023-02-17T00:54:32.239986Z"
    },
    "papermill": {
     "duration": 5.509673,
     "end_time": "2023-02-17T00:54:32.243099",
     "exception": false,
     "start_time": "2023-02-17T00:54:26.733426",
     "status": "completed"
    },
    "tags": []
   },
   "outputs": [
    {
     "data": {
      "text/html": [
       "<div>\n",
       "<style scoped>\n",
       "    .dataframe tbody tr th:only-of-type {\n",
       "        vertical-align: middle;\n",
       "    }\n",
       "\n",
       "    .dataframe tbody tr th {\n",
       "        vertical-align: top;\n",
       "    }\n",
       "\n",
       "    .dataframe thead th {\n",
       "        text-align: right;\n",
       "    }\n",
       "</style>\n",
       "<table border=\"1\" class=\"dataframe\">\n",
       "  <thead>\n",
       "    <tr style=\"text-align: right;\">\n",
       "      <th></th>\n",
       "      <th>userId</th>\n",
       "      <th>movieId</th>\n",
       "    </tr>\n",
       "  </thead>\n",
       "  <tbody>\n",
       "    <tr>\n",
       "      <th>0</th>\n",
       "      <td>469</td>\n",
       "      <td>2124</td>\n",
       "    </tr>\n",
       "    <tr>\n",
       "      <th>1</th>\n",
       "      <td>439</td>\n",
       "      <td>3753</td>\n",
       "    </tr>\n",
       "    <tr>\n",
       "      <th>2</th>\n",
       "      <td>522</td>\n",
       "      <td>1682</td>\n",
       "    </tr>\n",
       "    <tr>\n",
       "      <th>3</th>\n",
       "      <td>429</td>\n",
       "      <td>1217</td>\n",
       "    </tr>\n",
       "    <tr>\n",
       "      <th>4</th>\n",
       "      <td>71</td>\n",
       "      <td>1210</td>\n",
       "    </tr>\n",
       "  </tbody>\n",
       "</table>\n",
       "</div>"
      ],
      "text/plain": [
       "  userId movieId\n",
       "0    469    2124\n",
       "1    439    3753\n",
       "2    522    1682\n",
       "3    429    1217\n",
       "4     71    1210"
      ]
     },
     "execution_count": 13,
     "metadata": {},
     "output_type": "execute_result"
    }
   ],
   "source": [
    "test[['userId', 'movieId']] = test[\"userId_movieId\"].apply(lambda x: pd.Series(str(x).split(\"_\")))\n",
    "test = test.drop('userId_movieId', axis=1)\n",
    "test.head()"
   ]
  },
  {
   "cell_type": "code",
   "execution_count": 14,
   "id": "48d6dff1",
   "metadata": {
    "execution": {
     "iopub.execute_input": "2023-02-17T00:54:32.258069Z",
     "iopub.status.busy": "2023-02-17T00:54:32.257669Z",
     "iopub.status.idle": "2023-02-17T00:54:36.624456Z",
     "shell.execute_reply": "2023-02-17T00:54:36.623170Z"
    },
    "papermill": {
     "duration": 4.377061,
     "end_time": "2023-02-17T00:54:36.626939",
     "exception": false,
     "start_time": "2023-02-17T00:54:32.249878",
     "status": "completed"
    },
    "tags": []
   },
   "outputs": [],
   "source": [
    "svd = SVDRecommender(no_of_features=18)\n",
    "\n",
    "# Creates the user-item matrix, the userIds on the rows and the itemIds on the columns.\n",
    "user_item_matrix, users, movies = svd.create_utility_matrix(train, formatizer={'user':'userId', 'movie':'movieId', 'value':'rating'})\n",
    "\n",
    "# fits the svd model to the matrix data.\n",
    "svd.fit(user_item_matrix, users, movies)\n",
    "\n",
    "# predict the ratings from test set\n",
    "preds = svd.predict(test, formatizer = {'user':'userId', 'movie': 'movieId'})"
   ]
  },
  {
   "cell_type": "code",
   "execution_count": 15,
   "id": "d2199f8c",
   "metadata": {
    "execution": {
     "iopub.execute_input": "2023-02-17T00:54:36.642145Z",
     "iopub.status.busy": "2023-02-17T00:54:36.641758Z",
     "iopub.status.idle": "2023-02-17T00:54:36.646496Z",
     "shell.execute_reply": "2023-02-17T00:54:36.645419Z"
    },
    "papermill": {
     "duration": 0.015148,
     "end_time": "2023-02-17T00:54:36.649244",
     "exception": false,
     "start_time": "2023-02-17T00:54:36.634096",
     "status": "completed"
    },
    "tags": []
   },
   "outputs": [],
   "source": [
    "# preds"
   ]
  },
  {
   "cell_type": "code",
   "execution_count": 16,
   "id": "a99b579c",
   "metadata": {
    "execution": {
     "iopub.execute_input": "2023-02-17T00:54:36.663736Z",
     "iopub.status.busy": "2023-02-17T00:54:36.663397Z",
     "iopub.status.idle": "2023-02-17T00:54:36.678809Z",
     "shell.execute_reply": "2023-02-17T00:54:36.677659Z"
    },
    "papermill": {
     "duration": 0.025368,
     "end_time": "2023-02-17T00:54:36.681285",
     "exception": false,
     "start_time": "2023-02-17T00:54:36.655917",
     "status": "completed"
    },
    "tags": []
   },
   "outputs": [
    {
     "data": {
      "text/html": [
       "<div>\n",
       "<style scoped>\n",
       "    .dataframe tbody tr th:only-of-type {\n",
       "        vertical-align: middle;\n",
       "    }\n",
       "\n",
       "    .dataframe tbody tr th {\n",
       "        vertical-align: top;\n",
       "    }\n",
       "\n",
       "    .dataframe thead th {\n",
       "        text-align: right;\n",
       "    }\n",
       "</style>\n",
       "<table border=\"1\" class=\"dataframe\">\n",
       "  <thead>\n",
       "    <tr style=\"text-align: right;\">\n",
       "      <th></th>\n",
       "      <th>userId</th>\n",
       "      <th>movieId</th>\n",
       "    </tr>\n",
       "  </thead>\n",
       "  <tbody>\n",
       "    <tr>\n",
       "      <th>0</th>\n",
       "      <td>469</td>\n",
       "      <td>2124</td>\n",
       "    </tr>\n",
       "    <tr>\n",
       "      <th>1</th>\n",
       "      <td>439</td>\n",
       "      <td>3753</td>\n",
       "    </tr>\n",
       "    <tr>\n",
       "      <th>2</th>\n",
       "      <td>522</td>\n",
       "      <td>1682</td>\n",
       "    </tr>\n",
       "    <tr>\n",
       "      <th>3</th>\n",
       "      <td>429</td>\n",
       "      <td>1217</td>\n",
       "    </tr>\n",
       "    <tr>\n",
       "      <th>4</th>\n",
       "      <td>71</td>\n",
       "      <td>1210</td>\n",
       "    </tr>\n",
       "    <tr>\n",
       "      <th>...</th>\n",
       "      <td>...</td>\n",
       "      <td>...</td>\n",
       "    </tr>\n",
       "    <tr>\n",
       "      <th>29997</th>\n",
       "      <td>305</td>\n",
       "      <td>2599</td>\n",
       "    </tr>\n",
       "    <tr>\n",
       "      <th>29998</th>\n",
       "      <td>22</td>\n",
       "      <td>2109</td>\n",
       "    </tr>\n",
       "    <tr>\n",
       "      <th>29999</th>\n",
       "      <td>534</td>\n",
       "      <td>2947</td>\n",
       "    </tr>\n",
       "    <tr>\n",
       "      <th>30000</th>\n",
       "      <td>558</td>\n",
       "      <td>4085</td>\n",
       "    </tr>\n",
       "    <tr>\n",
       "      <th>30001</th>\n",
       "      <td>550</td>\n",
       "      <td>5693</td>\n",
       "    </tr>\n",
       "  </tbody>\n",
       "</table>\n",
       "<p>30002 rows × 2 columns</p>\n",
       "</div>"
      ],
      "text/plain": [
       "      userId movieId\n",
       "0        469    2124\n",
       "1        439    3753\n",
       "2        522    1682\n",
       "3        429    1217\n",
       "4         71    1210\n",
       "...      ...     ...\n",
       "29997    305    2599\n",
       "29998     22    2109\n",
       "29999    534    2947\n",
       "30000    558    4085\n",
       "30001    550    5693\n",
       "\n",
       "[30002 rows x 2 columns]"
      ]
     },
     "execution_count": 16,
     "metadata": {},
     "output_type": "execute_result"
    }
   ],
   "source": [
    "results = test.copy()\n",
    "results"
   ]
  },
  {
   "cell_type": "code",
   "execution_count": 17,
   "id": "4dcfddf1",
   "metadata": {
    "execution": {
     "iopub.execute_input": "2023-02-17T00:54:36.695649Z",
     "iopub.status.busy": "2023-02-17T00:54:36.695319Z",
     "iopub.status.idle": "2023-02-17T00:54:36.744743Z",
     "shell.execute_reply": "2023-02-17T00:54:36.743565Z"
    },
    "papermill": {
     "duration": 0.059383,
     "end_time": "2023-02-17T00:54:36.747246",
     "exception": false,
     "start_time": "2023-02-17T00:54:36.687863",
     "status": "completed"
    },
    "tags": []
   },
   "outputs": [
    {
     "data": {
      "text/html": [
       "<div>\n",
       "<style scoped>\n",
       "    .dataframe tbody tr th:only-of-type {\n",
       "        vertical-align: middle;\n",
       "    }\n",
       "\n",
       "    .dataframe tbody tr th {\n",
       "        vertical-align: top;\n",
       "    }\n",
       "\n",
       "    .dataframe thead th {\n",
       "        text-align: right;\n",
       "    }\n",
       "</style>\n",
       "<table border=\"1\" class=\"dataframe\">\n",
       "  <thead>\n",
       "    <tr style=\"text-align: right;\">\n",
       "      <th></th>\n",
       "      <th>userId_movieId</th>\n",
       "      <th>rating</th>\n",
       "    </tr>\n",
       "  </thead>\n",
       "  <tbody>\n",
       "    <tr>\n",
       "      <th>0</th>\n",
       "      <td>469_2124</td>\n",
       "      <td>0.688909</td>\n",
       "    </tr>\n",
       "    <tr>\n",
       "      <th>1</th>\n",
       "      <td>439_3753</td>\n",
       "      <td>0.688909</td>\n",
       "    </tr>\n",
       "    <tr>\n",
       "      <th>2</th>\n",
       "      <td>522_1682</td>\n",
       "      <td>0.688909</td>\n",
       "    </tr>\n",
       "    <tr>\n",
       "      <th>3</th>\n",
       "      <td>429_1217</td>\n",
       "      <td>0.688909</td>\n",
       "    </tr>\n",
       "    <tr>\n",
       "      <th>4</th>\n",
       "      <td>71_1210</td>\n",
       "      <td>0.688909</td>\n",
       "    </tr>\n",
       "    <tr>\n",
       "      <th>...</th>\n",
       "      <td>...</td>\n",
       "      <td>...</td>\n",
       "    </tr>\n",
       "    <tr>\n",
       "      <th>29997</th>\n",
       "      <td>305_2599</td>\n",
       "      <td>0.688909</td>\n",
       "    </tr>\n",
       "    <tr>\n",
       "      <th>29998</th>\n",
       "      <td>22_2109</td>\n",
       "      <td>0.688909</td>\n",
       "    </tr>\n",
       "    <tr>\n",
       "      <th>29999</th>\n",
       "      <td>534_2947</td>\n",
       "      <td>0.688909</td>\n",
       "    </tr>\n",
       "    <tr>\n",
       "      <th>30000</th>\n",
       "      <td>558_4085</td>\n",
       "      <td>0.688909</td>\n",
       "    </tr>\n",
       "    <tr>\n",
       "      <th>30001</th>\n",
       "      <td>550_5693</td>\n",
       "      <td>0.688909</td>\n",
       "    </tr>\n",
       "  </tbody>\n",
       "</table>\n",
       "<p>30002 rows × 2 columns</p>\n",
       "</div>"
      ],
      "text/plain": [
       "      userId_movieId    rating\n",
       "0           469_2124  0.688909\n",
       "1           439_3753  0.688909\n",
       "2           522_1682  0.688909\n",
       "3           429_1217  0.688909\n",
       "4            71_1210  0.688909\n",
       "...              ...       ...\n",
       "29997       305_2599  0.688909\n",
       "29998        22_2109  0.688909\n",
       "29999       534_2947  0.688909\n",
       "30000       558_4085  0.688909\n",
       "30001       550_5693  0.688909\n",
       "\n",
       "[30002 rows x 2 columns]"
      ]
     },
     "execution_count": 17,
     "metadata": {},
     "output_type": "execute_result"
    }
   ],
   "source": [
    "results['userId_movieId'] = results.userId.astype(str).str.cat(results.movieId.astype(str), sep='_')\n",
    "results = results.drop(['userId', 'movieId'], axis=1)\n",
    "results[\"rating\"] = preds\n",
    "results"
   ]
  },
  {
   "cell_type": "code",
   "execution_count": 18,
   "id": "c87b020e",
   "metadata": {
    "execution": {
     "iopub.execute_input": "2023-02-17T00:54:36.763393Z",
     "iopub.status.busy": "2023-02-17T00:54:36.762439Z",
     "iopub.status.idle": "2023-02-17T00:54:36.819216Z",
     "shell.execute_reply": "2023-02-17T00:54:36.818155Z"
    },
    "papermill": {
     "duration": 0.067171,
     "end_time": "2023-02-17T00:54:36.821544",
     "exception": false,
     "start_time": "2023-02-17T00:54:36.754373",
     "status": "completed"
    },
    "tags": []
   },
   "outputs": [],
   "source": [
    "results.to_csv('submission.csv',index=False)"
   ]
  },
  {
   "cell_type": "code",
   "execution_count": 19,
   "id": "1d6820ce",
   "metadata": {
    "execution": {
     "iopub.execute_input": "2023-02-17T00:54:36.837733Z",
     "iopub.status.busy": "2023-02-17T00:54:36.836419Z",
     "iopub.status.idle": "2023-02-17T00:54:36.841928Z",
     "shell.execute_reply": "2023-02-17T00:54:36.840816Z"
    },
    "papermill": {
     "duration": 0.015547,
     "end_time": "2023-02-17T00:54:36.844057",
     "exception": false,
     "start_time": "2023-02-17T00:54:36.828510",
     "status": "completed"
    },
    "tags": []
   },
   "outputs": [],
   "source": [
    "# from sklearn.decomposition import TruncatedSVD\n",
    "# svd = TruncatedSVD(n_components=5, n_iter=7, random_state=42)\n",
    "# result = svd.fit_transform(user_item_matrix_np)\n",
    "# result.shape"
   ]
  }
 ],
 "metadata": {
  "kernelspec": {
   "display_name": "Python 3",
   "language": "python",
   "name": "python3"
  },
  "language_info": {
   "codemirror_mode": {
    "name": "ipython",
    "version": 3
   },
   "file_extension": ".py",
   "mimetype": "text/x-python",
   "name": "python",
   "nbconvert_exporter": "python",
   "pygments_lexer": "ipython3",
   "version": "3.7.12"
  },
  "papermill": {
   "default_parameters": {},
   "duration": 33.317155,
   "end_time": "2023-02-17T00:54:37.474363",
   "environment_variables": {},
   "exception": null,
   "input_path": "__notebook__.ipynb",
   "output_path": "__notebook__.ipynb",
   "parameters": {},
   "start_time": "2023-02-17T00:54:04.157208",
   "version": "2.3.4"
  }
 },
 "nbformat": 4,
 "nbformat_minor": 5
}
