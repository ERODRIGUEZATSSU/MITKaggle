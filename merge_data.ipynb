{
 "cells": [
  {
   "cell_type": "code",
   "execution_count": 1,
   "id": "003e740c",
   "metadata": {},
   "outputs": [],
   "source": [
    "import numpy as np # linear algebra\n",
    "import pandas as pd # data processing, CSV file I/O (e.g. pd.read_csv)"
   ]
  },
  {
   "cell_type": "code",
   "execution_count": 2,
   "id": "725593e4",
   "metadata": {},
   "outputs": [],
   "source": [
    "keywords = pd.read_csv(\"final_keywords.zip\", compression='zip')"
   ]
  },
  {
   "cell_type": "code",
   "execution_count": 3,
   "id": "88564c16",
   "metadata": {},
   "outputs": [],
   "source": [
    "movies_metadata = pd.read_csv(\"final_movie_metadata.zip\", compression='zip')"
   ]
  },
  {
   "cell_type": "code",
   "execution_count": 4,
   "id": "c03c5db8",
   "metadata": {},
   "outputs": [],
   "source": [
    "df = pd.merge(left=movies_metadata, right=keywords, left_on='id', right_on='id')\n"
   ]
  },
  {
   "cell_type": "code",
   "execution_count": 5,
   "id": "d5465b60",
   "metadata": {},
   "outputs": [
    {
     "data": {
      "text/plain": [
       "(46397, 43807)"
      ]
     },
     "execution_count": 5,
     "metadata": {},
     "output_type": "execute_result"
    }
   ],
   "source": [
    "df.shape"
   ]
  },
  {
   "cell_type": "code",
   "execution_count": 6,
   "id": "91b2205e",
   "metadata": {},
   "outputs": [],
   "source": [
    "compression_opts = dict(method='zip',\n",
    "                        archive_name='all_data.csv')  \n",
    "df.to_csv('all_data.zip', compression=compression_opts)  "
   ]
  }
 ],
 "metadata": {
  "kernelspec": {
   "display_name": "Python 3 (ipykernel)",
   "language": "python",
   "name": "python3"
  },
  "language_info": {
   "codemirror_mode": {
    "name": "ipython",
    "version": 3
   },
   "file_extension": ".py",
   "mimetype": "text/x-python",
   "name": "python",
   "nbconvert_exporter": "python",
   "pygments_lexer": "ipython3",
   "version": "3.9.12"
  }
 },
 "nbformat": 4,
 "nbformat_minor": 5
}
