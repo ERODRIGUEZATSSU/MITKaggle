{
 "cells": [
  {
   "cell_type": "code",
   "execution_count": 1,
   "id": "a74a1cd8",
   "metadata": {
    "_cell_guid": "78fea705-f9ad-4a81-aafd-8b7b624110d1",
    "_uuid": "1c291fe3725c706e0003f01f0102abb9709f25fc",
    "execution": {
     "iopub.execute_input": "2023-02-28T07:36:30.986432Z",
     "iopub.status.busy": "2023-02-28T07:36:30.985444Z",
     "iopub.status.idle": "2023-02-28T07:36:32.946796Z",
     "shell.execute_reply": "2023-02-28T07:36:32.945865Z"
    },
    "papermill": {
     "duration": 1.988092,
     "end_time": "2023-02-28T07:36:32.949629",
     "exception": false,
     "start_time": "2023-02-28T07:36:30.961537",
     "status": "completed"
    },
    "tags": []
   },
   "outputs": [],
   "source": [
    "%matplotlib inline\n",
    "import pandas as pd\n",
    "import numpy as np\n",
    "import matplotlib.pyplot as plt\n",
    "import seaborn as sns\n",
    "\n",
    "from scipy import stats\n",
    "from ast import literal_eval\n",
    "\n",
    "from sklearn.feature_extraction.text import TfidfVectorizer, CountVectorizer\n",
    "from sklearn.metrics.pairwise import linear_kernel, cosine_similarity\n",
    "from nltk.stem.snowball import SnowballStemmer\n",
    "from nltk.stem.wordnet import WordNetLemmatizer\n",
    "from nltk.corpus import wordnet\n",
    "\n",
    "from surprise import Reader, Dataset, SVD\n",
    "\n",
    "import warnings; warnings.simplefilter('ignore')"
   ]
  },
  {
   "cell_type": "markdown",
   "id": "9309d0cc",
   "metadata": {
    "_cell_guid": "f130bae8-1bb0-415d-9a39-557fe180b490",
    "_uuid": "49131e65f312719487848f6ef42488041a44028e",
    "papermill": {
     "duration": 0.021235,
     "end_time": "2023-02-28T07:36:32.991078",
     "exception": false,
     "start_time": "2023-02-28T07:36:32.969843",
     "status": "completed"
    },
    "tags": []
   },
   "source": [
    "## Simple Recommender\n",
    "\n",
    "The Simple Recommender is essentially a system that works on the basis of people usually liking movies in the same genre based on their movie genre-watching behavior. The primary principle behind this recommender is that movies that are more popular are more likely to be appreciated by the general audience. This methodology provides broad suggestions based on the user. \n",
    "\n",
    "This model's implementation is relatively simple. All we have to do is sort our movies by rating and popularity and present the top films on our list. As an extra step, we can include a genre argument to get the best movies in a specific genre."
   ]
  },
  {
   "cell_type": "code",
   "execution_count": 2,
   "id": "e2d9f49d",
   "metadata": {
    "_cell_guid": "0356d2a0-d8b2-4234-af78-bd51eaa3a390",
    "_uuid": "e0d62612bc9b9e9561afdc48fd1e75a9b0c82337",
    "execution": {
     "iopub.execute_input": "2023-02-28T07:36:33.033868Z",
     "iopub.status.busy": "2023-02-28T07:36:33.033050Z",
     "iopub.status.idle": "2023-02-28T07:36:34.220643Z",
     "shell.execute_reply": "2023-02-28T07:36:34.219567Z"
    },
    "papermill": {
     "duration": 1.212064,
     "end_time": "2023-02-28T07:36:34.223413",
     "exception": false,
     "start_time": "2023-02-28T07:36:33.011349",
     "status": "completed"
    },
    "tags": []
   },
   "outputs": [
    {
     "data": {
      "text/html": [
       "<div>\n",
       "<style scoped>\n",
       "    .dataframe tbody tr th:only-of-type {\n",
       "        vertical-align: middle;\n",
       "    }\n",
       "\n",
       "    .dataframe tbody tr th {\n",
       "        vertical-align: top;\n",
       "    }\n",
       "\n",
       "    .dataframe thead th {\n",
       "        text-align: right;\n",
       "    }\n",
       "</style>\n",
       "<table border=\"1\" class=\"dataframe\">\n",
       "  <thead>\n",
       "    <tr style=\"text-align: right;\">\n",
       "      <th></th>\n",
       "      <th>adult</th>\n",
       "      <th>belongs_to_collection</th>\n",
       "      <th>budget</th>\n",
       "      <th>genres</th>\n",
       "      <th>homepage</th>\n",
       "      <th>id</th>\n",
       "      <th>imdb_id</th>\n",
       "      <th>original_language</th>\n",
       "      <th>original_title</th>\n",
       "      <th>overview</th>\n",
       "      <th>...</th>\n",
       "      <th>release_date</th>\n",
       "      <th>revenue</th>\n",
       "      <th>runtime</th>\n",
       "      <th>spoken_languages</th>\n",
       "      <th>status</th>\n",
       "      <th>tagline</th>\n",
       "      <th>title</th>\n",
       "      <th>video</th>\n",
       "      <th>vote_average</th>\n",
       "      <th>vote_count</th>\n",
       "    </tr>\n",
       "  </thead>\n",
       "  <tbody>\n",
       "    <tr>\n",
       "      <th>0</th>\n",
       "      <td>False</td>\n",
       "      <td>{'id': 10194, 'name': 'Toy Story Collection', ...</td>\n",
       "      <td>30000000</td>\n",
       "      <td>[{'id': 16, 'name': 'Animation'}, {'id': 35, '...</td>\n",
       "      <td>http://toystory.disney.com/toy-story</td>\n",
       "      <td>862</td>\n",
       "      <td>tt0114709</td>\n",
       "      <td>en</td>\n",
       "      <td>Toy Story</td>\n",
       "      <td>Led by Woody, Andy's toys live happily in his ...</td>\n",
       "      <td>...</td>\n",
       "      <td>1995-10-30</td>\n",
       "      <td>373554033.0</td>\n",
       "      <td>81.0</td>\n",
       "      <td>[{'iso_639_1': 'en', 'name': 'English'}]</td>\n",
       "      <td>Released</td>\n",
       "      <td>NaN</td>\n",
       "      <td>Toy Story</td>\n",
       "      <td>False</td>\n",
       "      <td>7.7</td>\n",
       "      <td>5415.0</td>\n",
       "    </tr>\n",
       "    <tr>\n",
       "      <th>1</th>\n",
       "      <td>False</td>\n",
       "      <td>NaN</td>\n",
       "      <td>65000000</td>\n",
       "      <td>[{'id': 12, 'name': 'Adventure'}, {'id': 14, '...</td>\n",
       "      <td>NaN</td>\n",
       "      <td>8844</td>\n",
       "      <td>tt0113497</td>\n",
       "      <td>en</td>\n",
       "      <td>Jumanji</td>\n",
       "      <td>When siblings Judy and Peter discover an encha...</td>\n",
       "      <td>...</td>\n",
       "      <td>1995-12-15</td>\n",
       "      <td>262797249.0</td>\n",
       "      <td>104.0</td>\n",
       "      <td>[{'iso_639_1': 'en', 'name': 'English'}, {'iso...</td>\n",
       "      <td>Released</td>\n",
       "      <td>Roll the dice and unleash the excitement!</td>\n",
       "      <td>Jumanji</td>\n",
       "      <td>False</td>\n",
       "      <td>6.9</td>\n",
       "      <td>2413.0</td>\n",
       "    </tr>\n",
       "    <tr>\n",
       "      <th>2</th>\n",
       "      <td>False</td>\n",
       "      <td>{'id': 119050, 'name': 'Grumpy Old Men Collect...</td>\n",
       "      <td>0</td>\n",
       "      <td>[{'id': 10749, 'name': 'Romance'}, {'id': 35, ...</td>\n",
       "      <td>NaN</td>\n",
       "      <td>15602</td>\n",
       "      <td>tt0113228</td>\n",
       "      <td>en</td>\n",
       "      <td>Grumpier Old Men</td>\n",
       "      <td>A family wedding reignites the ancient feud be...</td>\n",
       "      <td>...</td>\n",
       "      <td>1995-12-22</td>\n",
       "      <td>0.0</td>\n",
       "      <td>101.0</td>\n",
       "      <td>[{'iso_639_1': 'en', 'name': 'English'}]</td>\n",
       "      <td>Released</td>\n",
       "      <td>Still Yelling. Still Fighting. Still Ready for...</td>\n",
       "      <td>Grumpier Old Men</td>\n",
       "      <td>False</td>\n",
       "      <td>6.5</td>\n",
       "      <td>92.0</td>\n",
       "    </tr>\n",
       "    <tr>\n",
       "      <th>3</th>\n",
       "      <td>False</td>\n",
       "      <td>NaN</td>\n",
       "      <td>16000000</td>\n",
       "      <td>[{'id': 35, 'name': 'Comedy'}, {'id': 18, 'nam...</td>\n",
       "      <td>NaN</td>\n",
       "      <td>31357</td>\n",
       "      <td>tt0114885</td>\n",
       "      <td>en</td>\n",
       "      <td>Waiting to Exhale</td>\n",
       "      <td>Cheated on, mistreated and stepped on, the wom...</td>\n",
       "      <td>...</td>\n",
       "      <td>1995-12-22</td>\n",
       "      <td>81452156.0</td>\n",
       "      <td>127.0</td>\n",
       "      <td>[{'iso_639_1': 'en', 'name': 'English'}]</td>\n",
       "      <td>Released</td>\n",
       "      <td>Friends are the people who let you be yourself...</td>\n",
       "      <td>Waiting to Exhale</td>\n",
       "      <td>False</td>\n",
       "      <td>6.1</td>\n",
       "      <td>34.0</td>\n",
       "    </tr>\n",
       "    <tr>\n",
       "      <th>4</th>\n",
       "      <td>False</td>\n",
       "      <td>{'id': 96871, 'name': 'Father of the Bride Col...</td>\n",
       "      <td>0</td>\n",
       "      <td>[{'id': 35, 'name': 'Comedy'}]</td>\n",
       "      <td>NaN</td>\n",
       "      <td>11862</td>\n",
       "      <td>tt0113041</td>\n",
       "      <td>en</td>\n",
       "      <td>Father of the Bride Part II</td>\n",
       "      <td>Just when George Banks has recovered from his ...</td>\n",
       "      <td>...</td>\n",
       "      <td>1995-02-10</td>\n",
       "      <td>76578911.0</td>\n",
       "      <td>106.0</td>\n",
       "      <td>[{'iso_639_1': 'en', 'name': 'English'}]</td>\n",
       "      <td>Released</td>\n",
       "      <td>Just When His World Is Back To Normal... He's ...</td>\n",
       "      <td>Father of the Bride Part II</td>\n",
       "      <td>False</td>\n",
       "      <td>5.7</td>\n",
       "      <td>173.0</td>\n",
       "    </tr>\n",
       "  </tbody>\n",
       "</table>\n",
       "<p>5 rows × 24 columns</p>\n",
       "</div>"
      ],
      "text/plain": [
       "   adult                              belongs_to_collection    budget  \\\n",
       "0  False  {'id': 10194, 'name': 'Toy Story Collection', ...  30000000   \n",
       "1  False                                                NaN  65000000   \n",
       "2  False  {'id': 119050, 'name': 'Grumpy Old Men Collect...         0   \n",
       "3  False                                                NaN  16000000   \n",
       "4  False  {'id': 96871, 'name': 'Father of the Bride Col...         0   \n",
       "\n",
       "                                              genres  \\\n",
       "0  [{'id': 16, 'name': 'Animation'}, {'id': 35, '...   \n",
       "1  [{'id': 12, 'name': 'Adventure'}, {'id': 14, '...   \n",
       "2  [{'id': 10749, 'name': 'Romance'}, {'id': 35, ...   \n",
       "3  [{'id': 35, 'name': 'Comedy'}, {'id': 18, 'nam...   \n",
       "4                     [{'id': 35, 'name': 'Comedy'}]   \n",
       "\n",
       "                               homepage     id    imdb_id original_language  \\\n",
       "0  http://toystory.disney.com/toy-story    862  tt0114709                en   \n",
       "1                                   NaN   8844  tt0113497                en   \n",
       "2                                   NaN  15602  tt0113228                en   \n",
       "3                                   NaN  31357  tt0114885                en   \n",
       "4                                   NaN  11862  tt0113041                en   \n",
       "\n",
       "                original_title  \\\n",
       "0                    Toy Story   \n",
       "1                      Jumanji   \n",
       "2             Grumpier Old Men   \n",
       "3            Waiting to Exhale   \n",
       "4  Father of the Bride Part II   \n",
       "\n",
       "                                            overview  ... release_date  \\\n",
       "0  Led by Woody, Andy's toys live happily in his ...  ...   1995-10-30   \n",
       "1  When siblings Judy and Peter discover an encha...  ...   1995-12-15   \n",
       "2  A family wedding reignites the ancient feud be...  ...   1995-12-22   \n",
       "3  Cheated on, mistreated and stepped on, the wom...  ...   1995-12-22   \n",
       "4  Just when George Banks has recovered from his ...  ...   1995-02-10   \n",
       "\n",
       "       revenue runtime                                   spoken_languages  \\\n",
       "0  373554033.0    81.0           [{'iso_639_1': 'en', 'name': 'English'}]   \n",
       "1  262797249.0   104.0  [{'iso_639_1': 'en', 'name': 'English'}, {'iso...   \n",
       "2          0.0   101.0           [{'iso_639_1': 'en', 'name': 'English'}]   \n",
       "3   81452156.0   127.0           [{'iso_639_1': 'en', 'name': 'English'}]   \n",
       "4   76578911.0   106.0           [{'iso_639_1': 'en', 'name': 'English'}]   \n",
       "\n",
       "     status                                            tagline  \\\n",
       "0  Released                                                NaN   \n",
       "1  Released          Roll the dice and unleash the excitement!   \n",
       "2  Released  Still Yelling. Still Fighting. Still Ready for...   \n",
       "3  Released  Friends are the people who let you be yourself...   \n",
       "4  Released  Just When His World Is Back To Normal... He's ...   \n",
       "\n",
       "                         title  video vote_average vote_count  \n",
       "0                    Toy Story  False          7.7     5415.0  \n",
       "1                      Jumanji  False          6.9     2413.0  \n",
       "2             Grumpier Old Men  False          6.5       92.0  \n",
       "3            Waiting to Exhale  False          6.1       34.0  \n",
       "4  Father of the Bride Part II  False          5.7      173.0  \n",
       "\n",
       "[5 rows x 24 columns]"
      ]
     },
     "execution_count": 2,
     "metadata": {},
     "output_type": "execute_result"
    }
   ],
   "source": [
    "metadata = pd. read_csv('../input/movies_metadata.csv')\n",
    "metadata.head()"
   ]
  },
  {
   "cell_type": "code",
   "execution_count": 3,
   "id": "9c3cd89d",
   "metadata": {
    "execution": {
     "iopub.execute_input": "2023-02-28T07:36:34.267929Z",
     "iopub.status.busy": "2023-02-28T07:36:34.267467Z",
     "iopub.status.idle": "2023-02-28T07:36:34.275151Z",
     "shell.execute_reply": "2023-02-28T07:36:34.273896Z"
    },
    "papermill": {
     "duration": 0.032679,
     "end_time": "2023-02-28T07:36:34.277677",
     "exception": false,
     "start_time": "2023-02-28T07:36:34.244998",
     "status": "completed"
    },
    "tags": []
   },
   "outputs": [
    {
     "data": {
      "text/plain": [
       "(45466, 24)"
      ]
     },
     "execution_count": 3,
     "metadata": {},
     "output_type": "execute_result"
    }
   ],
   "source": [
    "metadata.shape"
   ]
  },
  {
   "cell_type": "code",
   "execution_count": 4,
   "id": "0dea451c",
   "metadata": {
    "_cell_guid": "f933a861-409a-4df7-98f1-7960a2a3874b",
    "_uuid": "d4df4c2158595611f2ea7ad4b16f71900e529ea8",
    "execution": {
     "iopub.execute_input": "2023-02-28T07:36:34.322047Z",
     "iopub.status.busy": "2023-02-28T07:36:34.320759Z",
     "iopub.status.idle": "2023-02-28T07:36:35.749340Z",
     "shell.execute_reply": "2023-02-28T07:36:35.748035Z"
    },
    "papermill": {
     "duration": 1.453857,
     "end_time": "2023-02-28T07:36:35.752165",
     "exception": false,
     "start_time": "2023-02-28T07:36:34.298308",
     "status": "completed"
    },
    "tags": []
   },
   "outputs": [],
   "source": [
    "metadata['genres'] = metadata['genres'].fillna('[]').apply(literal_eval).apply(lambda x: [i['name'] for i in x] if isinstance(x, list) else [])"
   ]
  },
  {
   "cell_type": "markdown",
   "id": "bb9f3ff1",
   "metadata": {
    "papermill": {
     "duration": 0.020385,
     "end_time": "2023-02-28T07:36:35.793562",
     "exception": false,
     "start_time": "2023-02-28T07:36:35.773177",
     "status": "completed"
    },
    "tags": []
   },
   "source": [
    "All instances of Na or NaN in the genre column are being filled with [], the 'literal_eval' from ast package will take all the Na values that were transformed to '[]' string characters and convert them into lists. If the value is a list, the lambda function will apply the following logic: map to a list containing the ['name'] values for each element in the list. If the element is not a list or Na, it maps to an empty list."
   ]
  },
  {
   "cell_type": "markdown",
   "id": "26e4666f",
   "metadata": {
    "_cell_guid": "23cf39ba-ef09-4972-9d1f-ed91cb2ef134",
    "_uuid": "9571875d383f237f126febe9c76f966e2869fdc3",
    "papermill": {
     "duration": 0.020697,
     "end_time": "2023-02-28T07:36:35.835109",
     "exception": false,
     "start_time": "2023-02-28T07:36:35.814412",
     "status": "completed"
    },
    "tags": []
   },
   "source": [
    "** We will use IMDB's *weighted rating* formula to construct a chart. Mathematically, it is represented as follows:\n",
    "\n",
    "Weighted Rating (WR) = $(\\frac{v}{v + m} . R) + (\\frac{m}{v + m} . C)$\n",
    "\n",
    "where,\n",
    "* *v* is the number of votes for the movie\n",
    "* *m* is the minimum votes required to be listed in the chart\n",
    "* *R* is the average rating of the movie\n",
    "* *C* is the mean vote across the whole report\n",
    "\n",
    "The following step is to find a suitable value for m. The number of votes necessary to be listed in the Top rankings. As a minimum, we will use the 95% percentile. To be included in our chart, a film must receive more votes than at least 95% of the other films on the list.\n"
   ]
  },
  {
   "cell_type": "markdown",
   "id": "8b7370e3",
   "metadata": {
    "papermill": {
     "duration": 0.020588,
     "end_time": "2023-02-28T07:36:35.876452",
     "exception": false,
     "start_time": "2023-02-28T07:36:35.855864",
     "status": "completed"
    },
    "tags": []
   },
   "source": [
    "## Step 1.\n",
    "Calculating the value of C, the vote mean across the entire metadata, doing so with ['vote_count'] and ['vote_averages'].By using Boolean Indexing a filtered view of the dataframe is returned where ['vote_count'] and [vote_average'] are NOT null, only True values are returned and used to calculate overall mean"
   ]
  },
  {
   "cell_type": "code",
   "execution_count": 5,
   "id": "f8646be7",
   "metadata": {
    "_cell_guid": "de5d2a9a-9d67-4309-9256-844756318bd0",
    "_uuid": "1e732487caba09d9543f3da49cbe7ff5092e2675",
    "execution": {
     "iopub.execute_input": "2023-02-28T07:36:35.919863Z",
     "iopub.status.busy": "2023-02-28T07:36:35.919447Z",
     "iopub.status.idle": "2023-02-28T07:36:35.973645Z",
     "shell.execute_reply": "2023-02-28T07:36:35.972526Z"
    },
    "papermill": {
     "duration": 0.079099,
     "end_time": "2023-02-28T07:36:35.976173",
     "exception": false,
     "start_time": "2023-02-28T07:36:35.897074",
     "status": "completed"
    },
    "tags": []
   },
   "outputs": [
    {
     "data": {
      "text/plain": [
       "5.244896612406511"
      ]
     },
     "execution_count": 5,
     "metadata": {},
     "output_type": "execute_result"
    }
   ],
   "source": [
    "vote_counts = metadata[metadata['vote_count'].notnull()]['vote_count'].astype('int')\n",
    "vote_averages = metadata[metadata['vote_average'].notnull()]['vote_average'].astype('int')\n",
    "C = vote_averages.mean()\n",
    "C"
   ]
  },
  {
   "cell_type": "markdown",
   "id": "e93a6467",
   "metadata": {
    "papermill": {
     "duration": 0.021214,
     "end_time": "2023-02-28T07:36:36.018752",
     "exception": false,
     "start_time": "2023-02-28T07:36:35.997538",
     "status": "completed"
    },
    "tags": []
   },
   "source": [
    "## Step 2.\n",
    "Defining the value of M, the minimum vote count required to be included in the **Top 95 chart**"
   ]
  },
  {
   "cell_type": "code",
   "execution_count": 6,
   "id": "76745fd1",
   "metadata": {
    "_cell_guid": "f2a3dff7-6430-471b-bd83-589779ab52b0",
    "_uuid": "23c2e113380f1bad9205ab2d0f8c372b0c246e79",
    "execution": {
     "iopub.execute_input": "2023-02-28T07:36:36.062526Z",
     "iopub.status.busy": "2023-02-28T07:36:36.061834Z",
     "iopub.status.idle": "2023-02-28T07:36:36.072694Z",
     "shell.execute_reply": "2023-02-28T07:36:36.071486Z"
    },
    "papermill": {
     "duration": 0.035355,
     "end_time": "2023-02-28T07:36:36.075108",
     "exception": false,
     "start_time": "2023-02-28T07:36:36.039753",
     "status": "completed"
    },
    "tags": []
   },
   "outputs": [
    {
     "data": {
      "text/plain": [
       "434.0"
      ]
     },
     "execution_count": 6,
     "metadata": {},
     "output_type": "execute_result"
    }
   ],
   "source": [
    "m = vote_counts.quantile(0.95)\n",
    "m\n",
    "# vote counts must be higher than 434 votes"
   ]
  },
  {
   "cell_type": "markdown",
   "id": "596776b0",
   "metadata": {
    "papermill": {
     "duration": 0.020858,
     "end_time": "2023-02-28T07:36:36.116896",
     "exception": false,
     "start_time": "2023-02-28T07:36:36.096038",
     "status": "completed"
    },
    "tags": []
   },
   "source": [
    "For the ['year'] column the values will be converted to datetime objects, any invalid pasing will be set to NaN. Using the lambda logic: all the elements in the ['relase_date'] column with the instances of ('-'). For example, (2000-10-26) will be split into a list of substrings. Giving us, ('2000','10','26'). Then selecting the first object indicated at index [0] in the list, ('2000') the year, based on the formatting of the datetime (year/month/day). Only if the element is NOT NaN, if any of the elements are NaN they will be left as NaN."
   ]
  },
  {
   "cell_type": "code",
   "execution_count": 7,
   "id": "b0130bcd",
   "metadata": {
    "_cell_guid": "93f480df-6e7b-427c-bbc0-906fd41640b0",
    "_uuid": "dbb8261dedb84e4a8ea8bed843c9de3ad9f3859d",
    "execution": {
     "iopub.execute_input": "2023-02-28T07:36:36.160941Z",
     "iopub.status.busy": "2023-02-28T07:36:36.160132Z",
     "iopub.status.idle": "2023-02-28T07:36:36.599068Z",
     "shell.execute_reply": "2023-02-28T07:36:36.597865Z"
    },
    "papermill": {
     "duration": 0.463929,
     "end_time": "2023-02-28T07:36:36.601865",
     "exception": false,
     "start_time": "2023-02-28T07:36:36.137936",
     "status": "completed"
    },
    "tags": []
   },
   "outputs": [],
   "source": [
    "metadata['year'] = pd.to_datetime(metadata['release_date'], errors='coerce').apply(lambda x: str(x).split('-')[0] if x != np.nan else np.nan)"
   ]
  },
  {
   "cell_type": "markdown",
   "id": "7eaea254",
   "metadata": {
    "papermill": {
     "duration": 0.020821,
     "end_time": "2023-02-28T07:36:36.643708",
     "exception": false,
     "start_time": "2023-02-28T07:36:36.622887",
     "status": "completed"
    },
    "tags": []
   },
   "source": [
    "Conditional programming to extract values in ['vote_counts'] that are greater than or equal to ['m'] = 434.0, and the values themselves cannot be equal to NaN. The final condition is that the column ['vote-average'] also cannot have any NaN values. The following columns will be added the **Top 95** subset."
   ]
  },
  {
   "cell_type": "code",
   "execution_count": 8,
   "id": "23a59f0e",
   "metadata": {
    "_cell_guid": "e7e91af4-7ff5-4553-bfbb-b9339096397e",
    "_uuid": "dcb30bee69ef1a6ead2c745565e5e7bfd5314d7a",
    "execution": {
     "iopub.execute_input": "2023-02-28T07:36:36.687655Z",
     "iopub.status.busy": "2023-02-28T07:36:36.687194Z",
     "iopub.status.idle": "2023-02-28T07:36:36.871165Z",
     "shell.execute_reply": "2023-02-28T07:36:36.869343Z"
    },
    "papermill": {
     "duration": 0.208727,
     "end_time": "2023-02-28T07:36:36.873346",
     "exception": true,
     "start_time": "2023-02-28T07:36:36.664619",
     "status": "failed"
    },
    "tags": []
   },
   "outputs": [
    {
     "ename": "NameError",
     "evalue": "name 'qualified' is not defined",
     "output_type": "error",
     "traceback": [
      "\u001b[0;31m---------------------------------------------------------------------------\u001b[0m",
      "\u001b[0;31mNameError\u001b[0m                                 Traceback (most recent call last)",
      "\u001b[0;32m/tmp/ipykernel_19/1912953577.py\u001b[0m in \u001b[0;36m<module>\u001b[0;34m\u001b[0m\n\u001b[1;32m      1\u001b[0m \u001b[0mtop95\u001b[0m \u001b[0;34m=\u001b[0m \u001b[0mmetadata\u001b[0m\u001b[0;34m[\u001b[0m\u001b[0;34m(\u001b[0m\u001b[0mmetadata\u001b[0m\u001b[0;34m[\u001b[0m\u001b[0;34m'vote_count'\u001b[0m\u001b[0;34m]\u001b[0m \u001b[0;34m>=\u001b[0m \u001b[0mm\u001b[0m\u001b[0;34m)\u001b[0m \u001b[0;34m&\u001b[0m \u001b[0;34m(\u001b[0m\u001b[0mmetadata\u001b[0m\u001b[0;34m[\u001b[0m\u001b[0;34m'vote_count'\u001b[0m\u001b[0;34m]\u001b[0m\u001b[0;34m.\u001b[0m\u001b[0mnotnull\u001b[0m\u001b[0;34m(\u001b[0m\u001b[0;34m)\u001b[0m\u001b[0;34m)\u001b[0m \u001b[0;34m&\u001b[0m \u001b[0;34m(\u001b[0m\u001b[0mmetadata\u001b[0m\u001b[0;34m[\u001b[0m\u001b[0;34m'vote_average'\u001b[0m\u001b[0;34m]\u001b[0m\u001b[0;34m.\u001b[0m\u001b[0mnotnull\u001b[0m\u001b[0;34m(\u001b[0m\u001b[0;34m)\u001b[0m\u001b[0;34m)\u001b[0m\u001b[0;34m]\u001b[0m\u001b[0;34m[\u001b[0m\u001b[0;34m[\u001b[0m\u001b[0;34m'title'\u001b[0m\u001b[0;34m,\u001b[0m \u001b[0;34m'year'\u001b[0m\u001b[0;34m,\u001b[0m \u001b[0;34m'vote_count'\u001b[0m\u001b[0;34m,\u001b[0m \u001b[0;34m'vote_average'\u001b[0m\u001b[0;34m,\u001b[0m \u001b[0;34m'popularity'\u001b[0m\u001b[0;34m,\u001b[0m \u001b[0;34m'genres'\u001b[0m\u001b[0;34m]\u001b[0m\u001b[0;34m]\u001b[0m\u001b[0;34m\u001b[0m\u001b[0;34m\u001b[0m\u001b[0m\n\u001b[0;32m----> 2\u001b[0;31m \u001b[0mtop95\u001b[0m\u001b[0;34m[\u001b[0m\u001b[0;34m'vote_count'\u001b[0m\u001b[0;34m]\u001b[0m \u001b[0;34m=\u001b[0m \u001b[0mqualified\u001b[0m\u001b[0;34m[\u001b[0m\u001b[0;34m'vote_count'\u001b[0m\u001b[0;34m]\u001b[0m\u001b[0;34m.\u001b[0m\u001b[0mastype\u001b[0m\u001b[0;34m(\u001b[0m\u001b[0;34m'int'\u001b[0m\u001b[0;34m)\u001b[0m\u001b[0;34m\u001b[0m\u001b[0;34m\u001b[0m\u001b[0m\n\u001b[0m\u001b[1;32m      3\u001b[0m \u001b[0mtop95\u001b[0m\u001b[0;34m[\u001b[0m\u001b[0;34m'vote_average'\u001b[0m\u001b[0;34m]\u001b[0m \u001b[0;34m=\u001b[0m \u001b[0mqualified\u001b[0m\u001b[0;34m[\u001b[0m\u001b[0;34m'vote_average'\u001b[0m\u001b[0;34m]\u001b[0m\u001b[0;34m.\u001b[0m\u001b[0mastype\u001b[0m\u001b[0;34m(\u001b[0m\u001b[0;34m'int'\u001b[0m\u001b[0;34m)\u001b[0m\u001b[0;34m\u001b[0m\u001b[0;34m\u001b[0m\u001b[0m\n\u001b[1;32m      4\u001b[0m \u001b[0;31m#qualified.shape\u001b[0m\u001b[0;34m\u001b[0m\u001b[0;34m\u001b[0m\u001b[0;34m\u001b[0m\u001b[0m\n\u001b[1;32m      5\u001b[0m \u001b[0mprint\u001b[0m\u001b[0;34m(\u001b[0m\u001b[0mtop95\u001b[0m\u001b[0;34m)\u001b[0m\u001b[0;34m\u001b[0m\u001b[0;34m\u001b[0m\u001b[0m\n",
      "\u001b[0;31mNameError\u001b[0m: name 'qualified' is not defined"
     ]
    }
   ],
   "source": [
    "top95 = metadata[(metadata['vote_count'] >= m) & (metadata['vote_count'].notnull()) & (metadata['vote_average'].notnull())][['title', 'year', 'vote_count', 'vote_average', 'popularity', 'genres']]\n",
    "top95['vote_count'] = qualified['vote_count'].astype('int')\n",
    "top95['vote_average'] = qualified['vote_average'].astype('int')\n",
    "#qualified.shape\n",
    "print(top95)"
   ]
  },
  {
   "cell_type": "markdown",
   "id": "20653880",
   "metadata": {
    "_cell_guid": "46efcb66-53a0-4f6a-b0df-92ba7b623143",
    "_uuid": "4c114ab330fc78c91953166d515a8e963ebc3238",
    "papermill": {
     "duration": null,
     "end_time": null,
     "exception": null,
     "start_time": null,
     "status": "pending"
    },
    "tags": []
   },
   "source": [
    "As a result, a film must receive at least 434 votes to be considered for the ranking. Just **2274 of the 45,466 movies** in our collection deserve to appear on our chart. **5% of the films in the dataset** would qualify. We can also observe that the **average movie rating** is **5.244 out of 10** to be qualifiable in the chart.\n",
    "\n",
    "Percentage (P) = $(\\frac{2,274}{45.466} . 100)$\n",
    "\n",
    "Percentage (P) =  $5.002$"
   ]
  },
  {
   "cell_type": "code",
   "execution_count": null,
   "id": "96b3d20d",
   "metadata": {
    "_cell_guid": "db959c40-7618-4755-a05a-5347f9460929",
    "_uuid": "6414e1aa7ed8cb4184ec451f02a18cd187e5345e",
    "execution": {
     "iopub.execute_input": "2023-02-28T07:35:52.274289Z",
     "iopub.status.busy": "2023-02-28T07:35:52.273831Z",
     "iopub.status.idle": "2023-02-28T07:35:52.280958Z",
     "shell.execute_reply": "2023-02-28T07:35:52.279477Z",
     "shell.execute_reply.started": "2023-02-28T07:35:52.274238Z"
    },
    "papermill": {
     "duration": null,
     "end_time": null,
     "exception": null,
     "start_time": null,
     "status": "pending"
    },
    "tags": []
   },
   "outputs": [],
   "source": [
    "def weighted_rating(x):\n",
    "    v = x['vote_count']\n",
    "    R = x['vote_average']\n",
    "    return (v/(v+m) * R) + (m/(m+v) * C)\n"
   ]
  },
  {
   "cell_type": "markdown",
   "id": "647f7e07",
   "metadata": {
    "papermill": {
     "duration": null,
     "end_time": null,
     "exception": null,
     "start_time": null,
     "status": "pending"
    },
    "tags": []
   },
   "source": [
    "weight_rating = $(\\frac{v}{v + m} . R) + (\\frac{m}{v + m} . C)$\n",
    "\n",
    "vote_count / (vote_count + 434.0) * vote_average) + (434.0 / (434.0 + vote_count) * average_of_vote_average)\n",
    "\n",
    "Applying the **weighted_rating** function the columns of the **top95** dataframe"
   ]
  },
  {
   "cell_type": "code",
   "execution_count": null,
   "id": "1c6a1441",
   "metadata": {
    "_cell_guid": "0f5e4384-51be-41df-a023-12a13e77d66c",
    "_uuid": "78ec5052b0e89ae51a834aa3a305cf55b6849f42",
    "execution": {
     "iopub.execute_input": "2023-02-28T07:35:52.285737Z",
     "iopub.status.busy": "2023-02-28T07:35:52.285351Z",
     "iopub.status.idle": "2023-02-28T07:35:52.333347Z",
     "shell.execute_reply": "2023-02-28T07:35:52.332022Z",
     "shell.execute_reply.started": "2023-02-28T07:35:52.285689Z"
    },
    "papermill": {
     "duration": null,
     "end_time": null,
     "exception": null,
     "start_time": null,
     "status": "pending"
    },
    "tags": []
   },
   "outputs": [],
   "source": [
    "top95['wr'] = top95.apply(weighted_rating, axis=1)"
   ]
  },
  {
   "cell_type": "code",
   "execution_count": null,
   "id": "5724d358",
   "metadata": {
    "_cell_guid": "ccbd8eca-cbfe-4843-9885-de11976f117c",
    "_uuid": "ed0ac7c8483f904d4f5ec0d554096d4782fa8bcf",
    "execution": {
     "iopub.execute_input": "2023-02-28T07:35:52.335185Z",
     "iopub.status.busy": "2023-02-28T07:35:52.334863Z",
     "iopub.status.idle": "2023-02-28T07:35:52.342522Z",
     "shell.execute_reply": "2023-02-28T07:35:52.341200Z",
     "shell.execute_reply.started": "2023-02-28T07:35:52.335154Z"
    },
    "papermill": {
     "duration": null,
     "end_time": null,
     "exception": null,
     "start_time": null,
     "status": "pending"
    },
    "tags": []
   },
   "outputs": [],
   "source": [
    "#top95 chart is now only the top 250 movies\n",
    "top95 = top95.sort_values('wr', ascending=False).head(250)"
   ]
  },
  {
   "cell_type": "code",
   "execution_count": null,
   "id": "2020f664",
   "metadata": {
    "execution": {
     "iopub.execute_input": "2023-02-28T07:35:52.344194Z",
     "iopub.status.busy": "2023-02-28T07:35:52.343859Z",
     "iopub.status.idle": "2023-02-28T07:35:52.361254Z",
     "shell.execute_reply": "2023-02-28T07:35:52.359907Z",
     "shell.execute_reply.started": "2023-02-28T07:35:52.344163Z"
    },
    "papermill": {
     "duration": null,
     "end_time": null,
     "exception": null,
     "start_time": null,
     "status": "pending"
    },
    "tags": []
   },
   "outputs": [],
   "source": [
    "top95['wr'].value_counts()"
   ]
  },
  {
   "cell_type": "code",
   "execution_count": null,
   "id": "3bdbf2b3",
   "metadata": {
    "execution": {
     "iopub.execute_input": "2023-02-28T07:35:52.363638Z",
     "iopub.status.busy": "2023-02-28T07:35:52.363277Z",
     "iopub.status.idle": "2023-02-28T07:35:52.379115Z",
     "shell.execute_reply": "2023-02-28T07:35:52.377599Z",
     "shell.execute_reply.started": "2023-02-28T07:35:52.363606Z"
    },
    "papermill": {
     "duration": null,
     "end_time": null,
     "exception": null,
     "start_time": null,
     "status": "pending"
    },
    "tags": []
   },
   "outputs": [],
   "source": [
    "top95['wr'].describe()"
   ]
  },
  {
   "cell_type": "code",
   "execution_count": null,
   "id": "e136d693",
   "metadata": {
    "execution": {
     "iopub.execute_input": "2023-02-28T07:35:52.381495Z",
     "iopub.status.busy": "2023-02-28T07:35:52.380281Z",
     "iopub.status.idle": "2023-02-28T07:35:52.691616Z",
     "shell.execute_reply": "2023-02-28T07:35:52.690092Z",
     "shell.execute_reply.started": "2023-02-28T07:35:52.381452Z"
    },
    "papermill": {
     "duration": null,
     "end_time": null,
     "exception": null,
     "start_time": null,
     "status": "pending"
    },
    "tags": []
   },
   "outputs": [],
   "source": [
    "top95['wr'].hist(bins=30)\n",
    "plt.ylabel('Frequency of Rating')\n",
    "plt.xlabel('Rating');\n",
    "plt.title(\"Weighted Rating\");"
   ]
  },
  {
   "cell_type": "markdown",
   "id": "1d9abdf1",
   "metadata": {
    "_cell_guid": "36a1b9ac-aff3-4d80-9e19-83a45f282062",
    "_uuid": "75eb9e1de05386d229746785a25c6a5c6ee4b61a",
    "papermill": {
     "duration": null,
     "end_time": null,
     "exception": null,
     "start_time": null,
     "status": "pending"
    },
    "tags": []
   },
   "source": [
    "### Top 95% of the most liked Movies!"
   ]
  },
  {
   "cell_type": "code",
   "execution_count": null,
   "id": "d0ba0bf2",
   "metadata": {
    "_cell_guid": "0bca5b03-0835-4902-aaa1-beceb9d9d47f",
    "_uuid": "f7f6821b7e9aff099b81fcc425fd20109894b351",
    "execution": {
     "iopub.execute_input": "2023-02-28T07:35:52.693738Z",
     "iopub.status.busy": "2023-02-28T07:35:52.693350Z",
     "iopub.status.idle": "2023-02-28T07:35:52.716514Z",
     "shell.execute_reply": "2023-02-28T07:35:52.714974Z",
     "shell.execute_reply.started": "2023-02-28T07:35:52.693688Z"
    },
    "papermill": {
     "duration": null,
     "end_time": null,
     "exception": null,
     "start_time": null,
     "status": "pending"
    },
    "tags": []
   },
   "outputs": [],
   "source": [
    "top95.head(15)"
   ]
  },
  {
   "cell_type": "code",
   "execution_count": null,
   "id": "24269a4a",
   "metadata": {
    "execution": {
     "iopub.execute_input": "2023-02-28T07:35:52.718825Z",
     "iopub.status.busy": "2023-02-28T07:35:52.718333Z",
     "iopub.status.idle": "2023-02-28T07:35:52.729286Z",
     "shell.execute_reply": "2023-02-28T07:35:52.727772Z",
     "shell.execute_reply.started": "2023-02-28T07:35:52.718783Z"
    },
    "papermill": {
     "duration": null,
     "end_time": null,
     "exception": null,
     "start_time": null,
     "status": "pending"
    },
    "tags": []
   },
   "outputs": [],
   "source": [
    "max_vote_count = top95['vote_count'].max()\n",
    "top_vote = top95[top95['vote_count']==max_vote_count]\n",
    "print(max_vote_average)"
   ]
  },
  {
   "cell_type": "code",
   "execution_count": null,
   "id": "23637424",
   "metadata": {
    "execution": {
     "iopub.execute_input": "2023-02-28T07:35:52.731333Z",
     "iopub.status.busy": "2023-02-28T07:35:52.730979Z",
     "iopub.status.idle": "2023-02-28T07:35:52.744537Z",
     "shell.execute_reply": "2023-02-28T07:35:52.742861Z",
     "shell.execute_reply.started": "2023-02-28T07:35:52.731301Z"
    },
    "papermill": {
     "duration": null,
     "end_time": null,
     "exception": null,
     "start_time": null,
     "status": "pending"
    },
    "tags": []
   },
   "outputs": [],
   "source": [
    "print('The number one movie out of all the Top 95, ', top_vote)"
   ]
  },
  {
   "cell_type": "markdown",
   "id": "bee4f052",
   "metadata": {
    "_cell_guid": "0942cc17-4e7c-4293-be59-0993261af6e3",
    "_uuid": "dd0636ab9235cef9afab293696b5c57521cc28b9",
    "papermill": {
     "duration": null,
     "end_time": null,
     "exception": null,
     "start_time": null,
     "status": "pending"
    },
    "tags": []
   },
   "source": [
    "We will now create a function that generates charts for specific genres with lists of the greatest rates. To do so, we will reduce the requirements from 95% percentile vote count to 85%."
   ]
  },
  {
   "cell_type": "code",
   "execution_count": null,
   "id": "2007f21a",
   "metadata": {
    "_cell_guid": "c6be871d-62d4-4ec4-abe4-6ca1b1c01fa0",
    "_uuid": "b59a35544efcd50e89e4bb1ea14bbfe32fc9bcd3",
    "execution": {
     "iopub.execute_input": "2023-02-28T07:35:52.746938Z",
     "iopub.status.busy": "2023-02-28T07:35:52.746495Z",
     "iopub.status.idle": "2023-02-28T07:36:10.178122Z",
     "shell.execute_reply": "2023-02-28T07:36:10.176708Z",
     "shell.execute_reply.started": "2023-02-28T07:35:52.746901Z"
    },
    "papermill": {
     "duration": null,
     "end_time": null,
     "exception": null,
     "start_time": null,
     "status": "pending"
    },
    "tags": []
   },
   "outputs": [],
   "source": [
    "s = metadata.apply(lambda x: pd.Series(x['genres']),axis=1).stack().reset_index(level=1, drop=True)\n",
    "s.name = 'genre'\n",
    "gen_meta = metadata.drop('genres', axis=1).join(s)"
   ]
  },
  {
   "cell_type": "markdown",
   "id": "53c9d09c",
   "metadata": {
    "papermill": {
     "duration": null,
     "end_time": null,
     "exception": null,
     "start_time": null,
     "status": "pending"
    },
    "tags": []
   },
   "source": [
    "We are generating a Series of values from the ['genres'] column, that  have been reshaped into having a multi-level indexes with one or more inner most levels. The index has been reset to drop the first level. The series name set to 'genre' and the ['genres'] column dropped from the metadata.\n",
    "\n",
    "gen_meta holds all the other columns other than genres, joining with the series holding genre"
   ]
  },
  {
   "cell_type": "code",
   "execution_count": null,
   "id": "d9a11482",
   "metadata": {
    "_cell_guid": "759652cb-5b16-4951-995c-6a3bdbae0e4e",
    "_uuid": "1fdfea9cd4b046b11ff8f2ac4f2bea74fccb8a8b",
    "execution": {
     "iopub.execute_input": "2023-02-28T07:36:10.180979Z",
     "iopub.status.busy": "2023-02-28T07:36:10.179848Z",
     "iopub.status.idle": "2023-02-28T07:36:10.194967Z",
     "shell.execute_reply": "2023-02-28T07:36:10.193653Z",
     "shell.execute_reply.started": "2023-02-28T07:36:10.180927Z"
    },
    "papermill": {
     "duration": null,
     "end_time": null,
     "exception": null,
     "start_time": null,
     "status": "pending"
    },
    "tags": []
   },
   "outputs": [],
   "source": [
    "def top_genre(genre, percentile=0.85):\n",
    "    # a new dataframe is made in which genre from gen meta is df and is equal to the value of genre\n",
    "    df = gen_meta[gen_meta['genre'] == genre]\n",
    "    #Boolean Indexing\n",
    "    vote_counts = df[df['vote_count'].notnull()]['vote_count'].astype('int')\n",
    "    vote_averages = df[df['vote_average'].notnull()]['vote_average'].astype('int')\n",
    "    #Calculating values of average of vote average\n",
    "    C = vote_averages.mean()\n",
    "    #Defining threshold\n",
    "    m = vote_counts.quantile(percentile)\n",
    "    #Conditions for qualified, vote count greater than or equal to percentile, no NaN values and including columns\n",
    "    qualified = df[(df['vote_count'] >= m) & (df['vote_count'].notnull()) & (df['vote_average'].notnull())][['title', 'year', 'vote_count', 'vote_average', 'popularity']]\n",
    "    qualified['vote_count'] = qualified['vote_count'].astype('int')\n",
    "    qualified['vote_average'] = qualified['vote_average'].astype('int')\n",
    "    #Formula for weighted rating is calculated and transformed into a column sorted in descending order\n",
    "    qualified['wr'] = qualified.apply(lambda x: (x['vote_count']/(x['vote_count']+m) * x['vote_average']) + (m/(m+x['vote_count']) * C), axis=1)\n",
    "    qualified = qualified.sort_values('wr', ascending=False).head(250)\n",
    "    \n",
    "    return qualified"
   ]
  },
  {
   "cell_type": "markdown",
   "id": "f703feab",
   "metadata": {
    "_cell_guid": "55f22de0-0df9-405a-9197-df5a8c0e8466",
    "_uuid": "a76ce0f8a8f614aa6f23cb9a6e0fd6af6d048642",
    "papermill": {
     "duration": null,
     "end_time": null,
     "exception": null,
     "start_time": null,
     "status": "pending"
    },
    "tags": []
   },
   "source": [
    "### Top Sci-Fi Movies!\n",
    "We will test our function by displaying the Top 15 Sci-Fi Movies!"
   ]
  },
  {
   "cell_type": "code",
   "execution_count": null,
   "id": "3bdf77b5",
   "metadata": {
    "_cell_guid": "af61da24-494b-48ac-b7b7-64ec0eaedaf8",
    "_uuid": "bf2816495a16de1bb84dc826fd33eee7e663f45d",
    "execution": {
     "iopub.execute_input": "2023-02-28T07:36:10.196822Z",
     "iopub.status.busy": "2023-02-28T07:36:10.196459Z",
     "iopub.status.idle": "2023-02-28T07:36:10.313509Z",
     "shell.execute_reply": "2023-02-28T07:36:10.312223Z",
     "shell.execute_reply.started": "2023-02-28T07:36:10.196789Z"
    },
    "papermill": {
     "duration": null,
     "end_time": null,
     "exception": null,
     "start_time": null,
     "status": "pending"
    },
    "tags": []
   },
   "outputs": [],
   "source": [
    "top_genre('Science Fiction').head(15)"
   ]
  },
  {
   "cell_type": "markdown",
   "id": "51bfe1ba",
   "metadata": {
    "_cell_guid": "b6e1eb8b-6109-40ff-ab8a-37bd047c03ac",
    "_uuid": "0b0f95bdf966d06c2d7053535d46183b03a75cc1",
    "papermill": {
     "duration": null,
     "end_time": null,
     "exception": null,
     "start_time": null,
     "status": "pending"
    },
    "tags": []
   },
   "source": [
    "## Content Based Recommender\n",
    "\n",
    "The recommender we built in the previous section is very generalized and does not cater to the user's preferences and likes and dislikes.\n",
    "\n",
    "To improve the personalization of our suggestions, we will be developing an engine that computes similarity between movies based on specific parameters and offers movies that are most similar to a particular movie that a user loved. Because we will be using movie information to develop this engine, this is also known as **Content Based Filtering**.\n",
    "\n",
    "we will build two Content Based Recommenders based on:\n",
    "* Movie Overviews, Keywordsand Genre"
   ]
  },
  {
   "cell_type": "code",
   "execution_count": null,
   "id": "3427b3c7",
   "metadata": {
    "_cell_guid": "bd5f4440-f90d-46a4-8640-204541d99d40",
    "_uuid": "dc237e14c8346bdd51624d21b6b082399afd3062",
    "execution": {
     "iopub.execute_input": "2023-02-28T07:36:10.316997Z",
     "iopub.status.busy": "2023-02-28T07:36:10.315899Z",
     "iopub.status.idle": "2023-02-28T07:36:10.334674Z",
     "shell.execute_reply": "2023-02-28T07:36:10.332826Z",
     "shell.execute_reply.started": "2023-02-28T07:36:10.316942Z"
    },
    "papermill": {
     "duration": null,
     "end_time": null,
     "exception": null,
     "start_time": null,
     "status": "pending"
    },
    "tags": []
   },
   "outputs": [],
   "source": [
    "links_small = pd.read_csv('../input/links_small.csv')\n",
    "links_small = links_small[links_small['tmdbId'].notnull()]['tmdbId'].astype('int')"
   ]
  },
  {
   "cell_type": "code",
   "execution_count": null,
   "id": "392a0ab5",
   "metadata": {
    "_cell_guid": "cda91291-c8d5-475a-8b0f-ab4030d29f62",
    "_uuid": "6c5af69fefa991d46594401a5eac0656e5980484",
    "execution": {
     "iopub.execute_input": "2023-02-28T07:36:10.337368Z",
     "iopub.status.busy": "2023-02-28T07:36:10.336256Z",
     "iopub.status.idle": "2023-02-28T07:36:10.366692Z",
     "shell.execute_reply": "2023-02-28T07:36:10.365216Z",
     "shell.execute_reply.started": "2023-02-28T07:36:10.337321Z"
    },
    "papermill": {
     "duration": null,
     "end_time": null,
     "exception": null,
     "start_time": null,
     "status": "pending"
    },
    "tags": []
   },
   "outputs": [],
   "source": [
    "metadata = metadata.drop([19730, 29503, 35587])"
   ]
  },
  {
   "cell_type": "code",
   "execution_count": null,
   "id": "3352923c",
   "metadata": {
    "_cell_guid": "f68cb861-7c30-4b3d-b655-520379e61d70",
    "_uuid": "87eb84540a3c22a3f7bf54edeee5b491ef571416",
    "execution": {
     "iopub.execute_input": "2023-02-28T07:36:10.368765Z",
     "iopub.status.busy": "2023-02-28T07:36:10.368354Z",
     "iopub.status.idle": "2023-02-28T07:36:10.399672Z",
     "shell.execute_reply": "2023-02-28T07:36:10.398213Z",
     "shell.execute_reply.started": "2023-02-28T07:36:10.368686Z"
    },
    "papermill": {
     "duration": null,
     "end_time": null,
     "exception": null,
     "start_time": null,
     "status": "pending"
    },
    "tags": []
   },
   "outputs": [],
   "source": [
    "metadata['id'] = metadata['id'].astype('int')"
   ]
  },
  {
   "cell_type": "code",
   "execution_count": null,
   "id": "f6b0281f",
   "metadata": {
    "_cell_guid": "0b968a6a-6b0d-4df6-9e28-91c06e6c36c2",
    "_uuid": "3f2a7f55a030beeb06b713f854e4ca6a69b5ca13",
    "execution": {
     "iopub.execute_input": "2023-02-28T07:36:10.401552Z",
     "iopub.status.busy": "2023-02-28T07:36:10.401177Z",
     "iopub.status.idle": "2023-02-28T07:36:10.417298Z",
     "shell.execute_reply": "2023-02-28T07:36:10.415682Z",
     "shell.execute_reply.started": "2023-02-28T07:36:10.401518Z"
    },
    "papermill": {
     "duration": null,
     "end_time": null,
     "exception": null,
     "start_time": null,
     "status": "pending"
    },
    "tags": []
   },
   "outputs": [],
   "source": [
    "smd = metadata[metadata['id'].isin(links_small)]\n",
    "smd.shape"
   ]
  },
  {
   "cell_type": "code",
   "execution_count": null,
   "id": "e65ac356",
   "metadata": {
    "execution": {
     "iopub.execute_input": "2023-02-28T07:36:10.419687Z",
     "iopub.status.busy": "2023-02-28T07:36:10.419281Z",
     "iopub.status.idle": "2023-02-28T07:36:10.466437Z",
     "shell.execute_reply": "2023-02-28T07:36:10.465084Z",
     "shell.execute_reply.started": "2023-02-28T07:36:10.419652Z"
    },
    "papermill": {
     "duration": null,
     "end_time": null,
     "exception": null,
     "start_time": null,
     "status": "pending"
    },
    "tags": []
   },
   "outputs": [],
   "source": [
    "smd.head(15)"
   ]
  },
  {
   "cell_type": "markdown",
   "id": "fc6fa748",
   "metadata": {
    "_cell_guid": "0f9e6043-68e8-4b0c-a435-e456e19e9144",
    "_uuid": "1ebd72fcc46ac2ac20016ff34dad40a9f8879ac9",
    "papermill": {
     "duration": null,
     "end_time": null,
     "exception": null,
     "start_time": null,
     "status": "pending"
    },
    "tags": []
   },
   "source": [
    "We have **9099** movies avaiable in our small movies metadata dataset which is 5 times smaller than our original dataset of 45000 movies."
   ]
  },
  {
   "cell_type": "markdown",
   "id": "a0173c9c",
   "metadata": {
    "_cell_guid": "1e73645a-0b0b-441f-93b4-ce92069e1852",
    "_uuid": "c41800b7a9d8b8d48ba1c22b8430929f54e9884e",
    "papermill": {
     "duration": null,
     "end_time": null,
     "exception": null,
     "start_time": null,
     "status": "pending"
    },
    "tags": []
   },
   "source": [
    "### Movie Description Based Recommender\n",
    "\n",
    "Let us first try to build a recommender using movie descriptions and taglines. We do not have a quantitative metric to judge our machine's performance so this will have to be done qualitatively."
   ]
  },
  {
   "cell_type": "code",
   "execution_count": null,
   "id": "963636c9",
   "metadata": {
    "_cell_guid": "c880adf9-051b-40cd-8e95-cd8c4acabb17",
    "_uuid": "453bdc941ba5a1e86e17b0f106dc44040c0defdf",
    "execution": {
     "iopub.execute_input": "2023-02-28T07:36:10.468656Z",
     "iopub.status.busy": "2023-02-28T07:36:10.468268Z",
     "iopub.status.idle": "2023-02-28T07:36:10.490231Z",
     "shell.execute_reply": "2023-02-28T07:36:10.488813Z",
     "shell.execute_reply.started": "2023-02-28T07:36:10.468618Z"
    },
    "papermill": {
     "duration": null,
     "end_time": null,
     "exception": null,
     "start_time": null,
     "status": "pending"
    },
    "tags": []
   },
   "outputs": [],
   "source": [
    "smd['tagline'] = smd['tagline'].fillna('')\n",
    "smd['description'] = smd['overview'] + smd['tagline']\n",
    "smd['description'] = smd['description'].fillna('')"
   ]
  },
  {
   "cell_type": "code",
   "execution_count": null,
   "id": "0d7f047b",
   "metadata": {
    "_cell_guid": "6b385623-a978-43c4-b66a-813d5e9c6790",
    "_uuid": "f9d99726d9f2667fa6fc15ce5c5e31d36a970828",
    "execution": {
     "iopub.execute_input": "2023-02-28T07:36:10.492331Z",
     "iopub.status.busy": "2023-02-28T07:36:10.491925Z"
    },
    "papermill": {
     "duration": null,
     "end_time": null,
     "exception": null,
     "start_time": null,
     "status": "pending"
    },
    "tags": []
   },
   "outputs": [],
   "source": [
    "tf = TfidfVectorizer(analyzer='word',ngram_range=(1, 2),min_df=0, stop_words='english')\n",
    "tfidf_matrix = tf.fit_transform(smd['description'])"
   ]
  },
  {
   "cell_type": "code",
   "execution_count": null,
   "id": "d8ac0c06",
   "metadata": {
    "_cell_guid": "5e18427c-2ef8-4a98-84e2-323a4af72ade",
    "_uuid": "6c21cc05d3c13ea637028f2e5836c719986e47c7",
    "papermill": {
     "duration": null,
     "end_time": null,
     "exception": null,
     "start_time": null,
     "status": "pending"
    },
    "tags": []
   },
   "outputs": [],
   "source": [
    "tfidf_matrix.shape"
   ]
  },
  {
   "cell_type": "markdown",
   "id": "90f9de51",
   "metadata": {
    "_cell_guid": "7d4db389-9f30-46e9-b8af-69fe9b40ada5",
    "_uuid": "1a98e05af67de3475999e1891d965ce9f73ce316",
    "papermill": {
     "duration": null,
     "end_time": null,
     "exception": null,
     "start_time": null,
     "status": "pending"
    },
    "tags": []
   },
   "source": [
    "#### Cosine Similarity\n",
    "\n",
    "I will be using the Cosine Similarity to calculate a numeric quantity that denotes the similarity between two movies. Mathematically, it is defined as follows:\n",
    "\n",
    "$cosine(x,y) = \\frac{x. y^\\intercal}{||x||.||y||} $\n",
    "\n",
    "Since we have used the TF-IDF Vectorizer, calculating the Dot Product will directly give us the Cosine Similarity Score. Therefore, we will use sklearn's **linear_kernel** instead of cosine_similarities since it is much faster."
   ]
  },
  {
   "cell_type": "code",
   "execution_count": null,
   "id": "87b00179",
   "metadata": {
    "_cell_guid": "8b27b34f-a585-42bf-b35f-1de4e9181fce",
    "_uuid": "e324c0e951287359f7810a3da85631ebc7725c53",
    "papermill": {
     "duration": null,
     "end_time": null,
     "exception": null,
     "start_time": null,
     "status": "pending"
    },
    "tags": []
   },
   "outputs": [],
   "source": [
    "cosine_sim = linear_kernel(tfidf_matrix, tfidf_matrix)"
   ]
  },
  {
   "cell_type": "code",
   "execution_count": null,
   "id": "6356ab91",
   "metadata": {
    "_cell_guid": "148a994f-3e7f-4350-9ea3-41eb95f106e8",
    "_uuid": "ebb6823a9dce997d965dc89049a06512cbfb17af",
    "papermill": {
     "duration": null,
     "end_time": null,
     "exception": null,
     "start_time": null,
     "status": "pending"
    },
    "tags": []
   },
   "outputs": [],
   "source": [
    "cosine_sim[0]"
   ]
  },
  {
   "cell_type": "markdown",
   "id": "7414f5d3",
   "metadata": {
    "_cell_guid": "f4001114-a1c6-4762-b0cf-64eb4f2658ac",
    "_uuid": "b7a65051edc24edfe6e2afaf3a9c3a148af5bcaf",
    "papermill": {
     "duration": null,
     "end_time": null,
     "exception": null,
     "start_time": null,
     "status": "pending"
    },
    "tags": []
   },
   "source": [
    "We now have a pairwise cosine similarity matrix for all the movies in our dataset. The next step is to write a function that returns the 30 most similar movies based on the cosine similarity score."
   ]
  },
  {
   "cell_type": "code",
   "execution_count": null,
   "id": "d605e4a9",
   "metadata": {
    "_cell_guid": "446d22fd-e7c1-42a6-851b-593f60175ce0",
    "_uuid": "ff016d61895e99fe7b0495c51b86917bdbe2712d",
    "papermill": {
     "duration": null,
     "end_time": null,
     "exception": null,
     "start_time": null,
     "status": "pending"
    },
    "tags": []
   },
   "outputs": [],
   "source": [
    "smd = smd.reset_index()\n",
    "titles = smd['title']\n",
    "indices = pd.Series(smd.index, index=smd['title'])"
   ]
  },
  {
   "cell_type": "code",
   "execution_count": null,
   "id": "68d4ab6b",
   "metadata": {
    "_cell_guid": "d7352ae7-fbc3-4459-b257-76a44000ce6a",
    "_uuid": "62f49212a8b935ef63a3643e1bb6f629521f05b7",
    "papermill": {
     "duration": null,
     "end_time": null,
     "exception": null,
     "start_time": null,
     "status": "pending"
    },
    "tags": []
   },
   "outputs": [],
   "source": [
    "def get_recommendations(title):\n",
    "    idx = indices[title]\n",
    "    sim_scores = list(enumerate(cosine_sim[idx]))\n",
    "    sim_scores = sorted(sim_scores, key=lambda x: x[1], reverse=True)\n",
    "    sim_scores = sim_scores[1:31]\n",
    "    movie_indices = [i[0] for i in sim_scores]\n",
    "    return titles.iloc[movie_indices]"
   ]
  },
  {
   "cell_type": "markdown",
   "id": "06155fff",
   "metadata": {
    "_cell_guid": "e8c1e16a-a1ab-4cae-916b-dcdc2ebaf9a9",
    "_uuid": "8960b80c95e09e6b4e328872efebd2e4ee711df2",
    "papermill": {
     "duration": null,
     "end_time": null,
     "exception": null,
     "start_time": null,
     "status": "pending"
    },
    "tags": []
   },
   "source": [
    "We're all set. Let us now try and get the top recommendations for a few movies and see how good the recommendations are."
   ]
  },
  {
   "cell_type": "code",
   "execution_count": null,
   "id": "385778f1",
   "metadata": {
    "_cell_guid": "73bb1266-5797-47ce-b61f-fa9e0d7ce077",
    "_uuid": "46f418fd12b35e86a7a2026ef1975be822cadde3",
    "papermill": {
     "duration": null,
     "end_time": null,
     "exception": null,
     "start_time": null,
     "status": "pending"
    },
    "tags": []
   },
   "outputs": [],
   "source": [
    "get_recommendations('The Godfather').head(10)"
   ]
  },
  {
   "cell_type": "code",
   "execution_count": null,
   "id": "5f761cc6",
   "metadata": {
    "_cell_guid": "d074112e-79ea-4188-a1e0-addd9bed3c91",
    "_uuid": "f92e310b0225b4a1b8b46e8a87fe2f2b82c158ed",
    "papermill": {
     "duration": null,
     "end_time": null,
     "exception": null,
     "start_time": null,
     "status": "pending"
    },
    "tags": []
   },
   "outputs": [],
   "source": [
    "get_recommendations('The Dark Knight').head(10)"
   ]
  },
  {
   "cell_type": "markdown",
   "id": "f2898d22",
   "metadata": {
    "_cell_guid": "a9fd334d-e890-4125-9d48-b79babd194d2",
    "_uuid": "f38218c5d4f07d6d9439adbab468c51430157103",
    "papermill": {
     "duration": null,
     "end_time": null,
     "exception": null,
     "start_time": null,
     "status": "pending"
    },
    "tags": []
   },
   "source": [
    "We see that for **The Dark Knight**, our system is able to identify it as a Batman film and subsequently recommend other Batman films as its top recommendations. But unfortunately, that is all this system can do at the moment. This is not of much use to most people as it doesn't take into considerations very important features such as cast, crew, director and genre, which determine the rating and the popularity of a movie. Someone who liked **The Dark Knight** probably likes it more because of Nolan and would hate **Batman Forever** and every other substandard movie in the Batman Franchise.\n",
    "\n",
    "Therefore, we are going to use much more suggestive metadata than **Overview** and **Tagline**. In the next subsection, we will build a more sophisticated recommender that takes **genre**, **keywords**, **cast** and **crew** into consideration."
   ]
  },
  {
   "cell_type": "markdown",
   "id": "801a7987",
   "metadata": {
    "_cell_guid": "3a0dd8ba-a580-4c12-95eb-ca04e2191b35",
    "_uuid": "4089c7bcdf984e596e80d2fc6c2a74fe8c05a41f",
    "papermill": {
     "duration": null,
     "end_time": null,
     "exception": null,
     "start_time": null,
     "status": "pending"
    },
    "tags": []
   },
   "source": [
    "### Metadata Based Recommender\n",
    "\n",
    "To build our standard metadata based content recommender, we will need to merge our current dataset with the crew and the keyword datasets. Let us prepare this data as our first step."
   ]
  },
  {
   "cell_type": "code",
   "execution_count": null,
   "id": "5191b6ea",
   "metadata": {
    "_cell_guid": "85d2d5e0-165a-4ad5-860d-be1d1aa20c59",
    "_uuid": "aa399813ff512b0d7671e9bfcebf7f41ee139275",
    "papermill": {
     "duration": null,
     "end_time": null,
     "exception": null,
     "start_time": null,
     "status": "pending"
    },
    "tags": []
   },
   "outputs": [],
   "source": [
    "credits = pd.read_csv('../input/credits.csv')\n",
    "keywords = pd.read_csv('../input/keywords.csv')"
   ]
  },
  {
   "cell_type": "code",
   "execution_count": null,
   "id": "9e3fcf93",
   "metadata": {
    "_cell_guid": "5dc74705-17ee-41b8-932b-dc612c9426c5",
    "_uuid": "e82eb38c3ae53d500ad335943b4bd30a19f22d1a",
    "papermill": {
     "duration": null,
     "end_time": null,
     "exception": null,
     "start_time": null,
     "status": "pending"
    },
    "tags": []
   },
   "outputs": [],
   "source": [
    "keywords['id'] = keywords['id'].astype('int')\n",
    "credits['id'] = credits['id'].astype('int')\n",
    "md['id'] = md['id'].astype('int')"
   ]
  },
  {
   "cell_type": "code",
   "execution_count": null,
   "id": "4f7f67ed",
   "metadata": {
    "_cell_guid": "a120fca0-7236-4b97-97f8-970363ed02ed",
    "_uuid": "2f9fc363f77649b3ee41132e0b45f366726a25cb",
    "papermill": {
     "duration": null,
     "end_time": null,
     "exception": null,
     "start_time": null,
     "status": "pending"
    },
    "tags": []
   },
   "outputs": [],
   "source": [
    "md.shape"
   ]
  },
  {
   "cell_type": "code",
   "execution_count": null,
   "id": "f405e06e",
   "metadata": {
    "_cell_guid": "39fbbbcd-a0d9-4ad3-9187-e6e2bdb4358e",
    "_uuid": "4b1ebc18f31eb017c6f4f173ab270807c73c002a",
    "papermill": {
     "duration": null,
     "end_time": null,
     "exception": null,
     "start_time": null,
     "status": "pending"
    },
    "tags": []
   },
   "outputs": [],
   "source": [
    "md = md.merge(credits, on='id')\n",
    "md = md.merge(keywords, on='id')"
   ]
  },
  {
   "cell_type": "code",
   "execution_count": null,
   "id": "2b657e0d",
   "metadata": {
    "_cell_guid": "ecdbd741-d8b1-4083-ba26-6c347915f16d",
    "_uuid": "a017f13dce80c88ce2f9fc0d63c374c93e827baa",
    "papermill": {
     "duration": null,
     "end_time": null,
     "exception": null,
     "start_time": null,
     "status": "pending"
    },
    "tags": []
   },
   "outputs": [],
   "source": [
    "smd = md[md['id'].isin(links_small)]\n",
    "smd.shape"
   ]
  },
  {
   "cell_type": "markdown",
   "id": "60cdd8b2",
   "metadata": {
    "_cell_guid": "5932e964-9f33-4cac-b90c-d6a116c8c463",
    "_uuid": "8e2c893fd842164c99b1be3f84f11fac3adab387",
    "papermill": {
     "duration": null,
     "end_time": null,
     "exception": null,
     "start_time": null,
     "status": "pending"
    },
    "tags": []
   },
   "source": [
    "We now have our cast, crew, genres and credits, all in one dataframe. Let us wrangle this a little more using the following intuitions:\n",
    "\n",
    "1. **Crew:** From the crew, we will only pick the director as our feature since the others don't contribute that much to the *feel* of the movie.\n",
    "2. **Cast:** Choosing Cast is a little more tricky. Lesser known actors and minor roles do not really affect people's opinion of a movie. Therefore, we must only select the major characters and their respective actors. Arbitrarily we will choose the top 3 actors that appear in the credits list. "
   ]
  },
  {
   "cell_type": "code",
   "execution_count": null,
   "id": "1da1b76a",
   "metadata": {
    "_cell_guid": "6c221b12-c5fd-4eb6-b61a-b7d3f395d2ab",
    "_uuid": "7ff7d25e2c175f2d71e02cf408ed113e10a148f1",
    "papermill": {
     "duration": null,
     "end_time": null,
     "exception": null,
     "start_time": null,
     "status": "pending"
    },
    "tags": []
   },
   "outputs": [],
   "source": [
    "smd['cast'] = smd['cast'].apply(literal_eval)\n",
    "smd['crew'] = smd['crew'].apply(literal_eval)\n",
    "smd['keywords'] = smd['keywords'].apply(literal_eval)\n",
    "smd['cast_size'] = smd['cast'].apply(lambda x: len(x))\n",
    "smd['crew_size'] = smd['crew'].apply(lambda x: len(x))"
   ]
  },
  {
   "cell_type": "code",
   "execution_count": null,
   "id": "565ef70d",
   "metadata": {
    "_cell_guid": "0e19fe24-e206-4743-a96c-fb828707c74d",
    "_uuid": "4207baed79a12ab3314fc816076bbff032d3e186",
    "papermill": {
     "duration": null,
     "end_time": null,
     "exception": null,
     "start_time": null,
     "status": "pending"
    },
    "tags": []
   },
   "outputs": [],
   "source": [
    "def get_director(x):\n",
    "    for i in x:\n",
    "        if i['job'] == 'Director':\n",
    "            return i['name']\n",
    "    return np.nan"
   ]
  },
  {
   "cell_type": "code",
   "execution_count": null,
   "id": "6fa19e9e",
   "metadata": {
    "_cell_guid": "d4468b32-a67e-4e31-bd56-1f4467884d1d",
    "_uuid": "64c84be00eb7eb7c0b9c4d9a1605e247c11ce2c6",
    "papermill": {
     "duration": null,
     "end_time": null,
     "exception": null,
     "start_time": null,
     "status": "pending"
    },
    "tags": []
   },
   "outputs": [],
   "source": [
    "smd['director'] = smd['crew'].apply(get_director)"
   ]
  },
  {
   "cell_type": "code",
   "execution_count": null,
   "id": "9a344166",
   "metadata": {
    "_cell_guid": "cc3ff524-20c5-478c-b45e-9875c473e48b",
    "_uuid": "fd58e3dc015c81678ca1181a8de9c6e967ffdb22",
    "papermill": {
     "duration": null,
     "end_time": null,
     "exception": null,
     "start_time": null,
     "status": "pending"
    },
    "tags": []
   },
   "outputs": [],
   "source": [
    "smd['cast'] = smd['cast'].apply(lambda x: [i['name'] for i in x] if isinstance(x, list) else [])\n",
    "smd['cast'] = smd['cast'].apply(lambda x: x[:3] if len(x) >=3 else x)"
   ]
  },
  {
   "cell_type": "code",
   "execution_count": null,
   "id": "0c586334",
   "metadata": {
    "_cell_guid": "2768dfe6-303a-4f88-81be-39b91c675202",
    "_uuid": "16c1509135d80d41051b8fb46ded3a6aad67e8f0",
    "papermill": {
     "duration": null,
     "end_time": null,
     "exception": null,
     "start_time": null,
     "status": "pending"
    },
    "tags": []
   },
   "outputs": [],
   "source": [
    "smd['keywords'] = smd['keywords'].apply(lambda x: [i['name'] for i in x] if isinstance(x, list) else [])"
   ]
  },
  {
   "cell_type": "markdown",
   "id": "6f85d138",
   "metadata": {
    "_cell_guid": "9f2cbd6e-3729-4316-bb4a-1bcd092f19ff",
    "_uuid": "ac9eb7bb4b74983b9c649013b7cdc6ebbb78af23",
    "papermill": {
     "duration": null,
     "end_time": null,
     "exception": null,
     "start_time": null,
     "status": "pending"
    },
    "tags": []
   },
   "source": [
    "My approach to building the recommender is going to be extremely *hacky*. What I plan on doing is creating a metadata dump for every movie which consists of **genres, director, main actors and keywords.** I then use a **Count Vectorizer** to create our count matrix as we did in the Description Recommender. The remaining steps are similar to what we did earlier: we calculate the cosine similarities and return movies that are most similar.\n",
    "\n",
    "These are steps I follow in the preparation of my genres and credits data:\n",
    "1. **Strip Spaces and Convert to Lowercase** from all our features. This way, our engine will not confuse between **Johnny Depp** and **Johnny Galecki.** \n",
    "2. **Mention Director 3 times** to give it more weight relative to the entire cast."
   ]
  },
  {
   "cell_type": "code",
   "execution_count": null,
   "id": "8a7fcea9",
   "metadata": {
    "_cell_guid": "6c5ffd70-ef6b-4fd0-be3d-b3c6a0d72df0",
    "_uuid": "01d86674d50b903fedc79750c4031ca88a739449",
    "papermill": {
     "duration": null,
     "end_time": null,
     "exception": null,
     "start_time": null,
     "status": "pending"
    },
    "tags": []
   },
   "outputs": [],
   "source": [
    "smd['cast'] = smd['cast'].apply(lambda x: [str.lower(i.replace(\" \", \"\")) for i in x])"
   ]
  },
  {
   "cell_type": "code",
   "execution_count": null,
   "id": "da85f030",
   "metadata": {
    "_cell_guid": "5c1377ba-aad0-4a3f-8bcb-063c9c93f087",
    "_uuid": "7e16f8b131ff73d33463fd070774a24a5ce474df",
    "papermill": {
     "duration": null,
     "end_time": null,
     "exception": null,
     "start_time": null,
     "status": "pending"
    },
    "tags": []
   },
   "outputs": [],
   "source": [
    "smd['director'] = smd['director'].astype('str').apply(lambda x: str.lower(x.replace(\" \", \"\")))\n",
    "smd['director'] = smd['director'].apply(lambda x: [x,x, x])"
   ]
  },
  {
   "cell_type": "markdown",
   "id": "f9846674",
   "metadata": {
    "_cell_guid": "5ea1aabb-a885-4dfe-a85e-0e31fd76558f",
    "_uuid": "feac137ab3987ade6ae3b041c6cbec3bf4364e66",
    "papermill": {
     "duration": null,
     "end_time": null,
     "exception": null,
     "start_time": null,
     "status": "pending"
    },
    "tags": []
   },
   "source": [
    "#### Keywords\n",
    "\n",
    "We will do a small amount of pre-processing of our keywords before putting them to any use. As a first step, we calculate the frequenct counts of every keyword that appears in the dataset."
   ]
  },
  {
   "cell_type": "code",
   "execution_count": null,
   "id": "f6dfe376",
   "metadata": {
    "_cell_guid": "3dc8f545-4666-4cc0-8473-2870a69e7ff0",
    "_uuid": "5740d11531f7305f4edf13b0270dc014382a2b5c",
    "papermill": {
     "duration": null,
     "end_time": null,
     "exception": null,
     "start_time": null,
     "status": "pending"
    },
    "tags": []
   },
   "outputs": [],
   "source": [
    "s = smd.apply(lambda x: pd.Series(x['keywords']),axis=1).stack().reset_index(level=1, drop=True)\n",
    "s.name = 'keyword'"
   ]
  },
  {
   "cell_type": "code",
   "execution_count": null,
   "id": "995b1ad6",
   "metadata": {
    "_cell_guid": "21e684ab-f6d3-4014-a05a-c28f995b4972",
    "_uuid": "1374a54bff3f7f0fdc872bfebff9f81d1dfcea69",
    "papermill": {
     "duration": null,
     "end_time": null,
     "exception": null,
     "start_time": null,
     "status": "pending"
    },
    "tags": []
   },
   "outputs": [],
   "source": [
    "s = s.value_counts()\n",
    "s[:5]"
   ]
  },
  {
   "cell_type": "markdown",
   "id": "96596bf9",
   "metadata": {
    "_cell_guid": "4277aa18-dc91-4836-9853-2c94624cc70d",
    "_uuid": "0ac999648a3085a98948ccf9ada187a9bb08eba3",
    "papermill": {
     "duration": null,
     "end_time": null,
     "exception": null,
     "start_time": null,
     "status": "pending"
    },
    "tags": []
   },
   "source": [
    "Keywords occur in frequencies ranging from 1 to 610. We do not have any use for keywords that occur only once. Therefore, these can be safely removed. Finally, we will convert every word to its stem so that words such as *Dogs* and *Dog* are considered the same."
   ]
  },
  {
   "cell_type": "code",
   "execution_count": null,
   "id": "ee0a4834",
   "metadata": {
    "_cell_guid": "8cabd79b-dfab-46d8-922d-e204173d8103",
    "_uuid": "bf05fb571b1ee60335af20acb9cf5d7fee6254e8",
    "papermill": {
     "duration": null,
     "end_time": null,
     "exception": null,
     "start_time": null,
     "status": "pending"
    },
    "tags": []
   },
   "outputs": [],
   "source": [
    "s = s[s > 1]"
   ]
  },
  {
   "cell_type": "code",
   "execution_count": null,
   "id": "bab9a5cd",
   "metadata": {
    "_cell_guid": "2d10427d-9339-46fa-b699-060b27d6d25f",
    "_uuid": "1d2a07e4de352df9d3e2230d36e691d166a1675c",
    "papermill": {
     "duration": null,
     "end_time": null,
     "exception": null,
     "start_time": null,
     "status": "pending"
    },
    "tags": []
   },
   "outputs": [],
   "source": [
    "stemmer = SnowballStemmer('english')\n",
    "stemmer.stem('dogs')"
   ]
  },
  {
   "cell_type": "code",
   "execution_count": null,
   "id": "2b87f601",
   "metadata": {
    "_cell_guid": "5379c8d7-42a5-471a-84f8-bbd6cadf2e5c",
    "_uuid": "3bad77061d810e52b0d9fecfd26873c101167d00",
    "papermill": {
     "duration": null,
     "end_time": null,
     "exception": null,
     "start_time": null,
     "status": "pending"
    },
    "tags": []
   },
   "outputs": [],
   "source": [
    "def filter_keywords(x):\n",
    "    words = []\n",
    "    for i in x:\n",
    "        if i in s:\n",
    "            words.append(i)\n",
    "    return words"
   ]
  },
  {
   "cell_type": "code",
   "execution_count": null,
   "id": "b1014305",
   "metadata": {
    "_cell_guid": "959063e5-841d-408a-a10e-1f1437756b7c",
    "_uuid": "2a939eb8846871c606da0f654a1a9a978270e99f",
    "papermill": {
     "duration": null,
     "end_time": null,
     "exception": null,
     "start_time": null,
     "status": "pending"
    },
    "tags": []
   },
   "outputs": [],
   "source": [
    "smd['keywords'] = smd['keywords'].apply(filter_keywords)\n",
    "smd['keywords'] = smd['keywords'].apply(lambda x: [stemmer.stem(i) for i in x])\n",
    "smd['keywords'] = smd['keywords'].apply(lambda x: [str.lower(i.replace(\" \", \"\")) for i in x])"
   ]
  },
  {
   "cell_type": "code",
   "execution_count": null,
   "id": "8b9ad011",
   "metadata": {
    "_cell_guid": "95c45262-2715-47b7-af65-1eb396c37d33",
    "_uuid": "6ff4da392e31cf628f91dd244cc4e76d63c40601",
    "papermill": {
     "duration": null,
     "end_time": null,
     "exception": null,
     "start_time": null,
     "status": "pending"
    },
    "tags": []
   },
   "outputs": [],
   "source": [
    "smd['soup'] = smd['keywords'] + smd['cast'] + smd['director'] + smd['genres']\n",
    "smd['soup'] = smd['soup'].apply(lambda x: ' '.join(x))"
   ]
  },
  {
   "cell_type": "code",
   "execution_count": null,
   "id": "e08d1978",
   "metadata": {
    "_cell_guid": "7f9aa1bc-351b-47a1-b909-0d87efe93adc",
    "_uuid": "c758030ce02bb4beed606e41a3e0a51b659768f0",
    "papermill": {
     "duration": null,
     "end_time": null,
     "exception": null,
     "start_time": null,
     "status": "pending"
    },
    "tags": []
   },
   "outputs": [],
   "source": [
    "count = CountVectorizer(analyzer='word',ngram_range=(1, 2),min_df=0, stop_words='english')\n",
    "count_matrix = count.fit_transform(smd['soup'])"
   ]
  },
  {
   "cell_type": "code",
   "execution_count": null,
   "id": "1eb664cb",
   "metadata": {
    "_cell_guid": "c462b8af-1eb8-499e-8e50-839811aebe9d",
    "_uuid": "defccf8a2c851672447b4f53ff1a8efddafccb33",
    "papermill": {
     "duration": null,
     "end_time": null,
     "exception": null,
     "start_time": null,
     "status": "pending"
    },
    "tags": []
   },
   "outputs": [],
   "source": [
    "cosine_sim = cosine_similarity(count_matrix, count_matrix)"
   ]
  },
  {
   "cell_type": "code",
   "execution_count": null,
   "id": "154ef2d9",
   "metadata": {
    "_cell_guid": "d7ee34aa-da42-46bb-93e5-51e893286353",
    "_uuid": "ffa7edd804b3ea3065c6d428fbb613ae7cd203e3",
    "papermill": {
     "duration": null,
     "end_time": null,
     "exception": null,
     "start_time": null,
     "status": "pending"
    },
    "tags": []
   },
   "outputs": [],
   "source": [
    "smd = smd.reset_index()\n",
    "titles = smd['title']\n",
    "indices = pd.Series(smd.index, index=smd['title'])"
   ]
  },
  {
   "cell_type": "markdown",
   "id": "dad1bb2f",
   "metadata": {
    "_cell_guid": "7f7ae1dc-41c0-4cd7-af41-74e6075b0d90",
    "_uuid": "37e2da9e51efab9951e6061f677c5ffcad230782",
    "papermill": {
     "duration": null,
     "end_time": null,
     "exception": null,
     "start_time": null,
     "status": "pending"
    },
    "tags": []
   },
   "source": [
    "We will reuse the get_recommendations function that we had written earlier. Since our cosine similarity scores have changed, we expect it to give us different (and probably better) results. Let us check for **The Dark Knight** again and see what recommendations I get this time around."
   ]
  },
  {
   "cell_type": "code",
   "execution_count": null,
   "id": "8923e791",
   "metadata": {
    "_cell_guid": "e755e943-495b-46df-983b-2f8ad80fcd6a",
    "_uuid": "f6e2b6b232e992c783150a0ac5a7038c6de6db37",
    "papermill": {
     "duration": null,
     "end_time": null,
     "exception": null,
     "start_time": null,
     "status": "pending"
    },
    "tags": []
   },
   "outputs": [],
   "source": [
    "get_recommendations('The Dark Knight').head(10)"
   ]
  },
  {
   "cell_type": "markdown",
   "id": "a1dfb654",
   "metadata": {
    "_cell_guid": "96c3a594-19de-4a38-a033-cbdd7d69aa4c",
    "_uuid": "65859bb4471fbd873df938ef77ed667cac10babc",
    "papermill": {
     "duration": null,
     "end_time": null,
     "exception": null,
     "start_time": null,
     "status": "pending"
    },
    "tags": []
   },
   "source": [
    "I am much more satisfied with the results I get this time around. The recommendations seem to have recognized other Christopher Nolan movies (due to the high weightage given to director) and put them as top recommendations. I enjoyed watching **The Dark Knight** as well as some of the other ones in the list including **Batman Begins**, **The Prestige** and **The Dark Knight Rises**. \n",
    "\n",
    "We can of course experiment on this engine by trying out different weights for our features (directors, actors, genres), limiting the number of keywords that can be used in the soup, weighing genres based on their frequency, only showing movies with the same languages, etc."
   ]
  },
  {
   "cell_type": "markdown",
   "id": "703ec0c1",
   "metadata": {
    "papermill": {
     "duration": null,
     "end_time": null,
     "exception": null,
     "start_time": null,
     "status": "pending"
    },
    "tags": []
   },
   "source": [
    "Let me also get recommendations for another movie, **Mean Girls** which happens to be my girlfriend's favorite movie."
   ]
  },
  {
   "cell_type": "code",
   "execution_count": null,
   "id": "77a6d950",
   "metadata": {
    "_cell_guid": "ef4d3551-2c66-4732-9be1-10425962d5e9",
    "_uuid": "688b323c3b96224127465e8d48e67688ba4be202",
    "papermill": {
     "duration": null,
     "end_time": null,
     "exception": null,
     "start_time": null,
     "status": "pending"
    },
    "tags": []
   },
   "outputs": [],
   "source": [
    "get_recommendations('Mean Girls').head(10)"
   ]
  },
  {
   "cell_type": "markdown",
   "id": "e37f1883",
   "metadata": {
    "_cell_guid": "77c9d0d7-684c-41ab-b806-b38264b2cf3f",
    "_uuid": "536a4e8632d62d2b6a0c0d5e8b5731c39eb5529b",
    "papermill": {
     "duration": null,
     "end_time": null,
     "exception": null,
     "start_time": null,
     "status": "pending"
    },
    "tags": []
   },
   "source": [
    "#### Popularity and Ratings\n",
    "\n",
    "One thing that we notice about our recommendation system is that it recommends movies regardless of ratings and popularity. It is true that **Batman and Robin** has a lot of similar characters as compared to **The Dark Knight** but it was a terrible movie that shouldn't be recommended to anyone.\n",
    "\n",
    "Therefore, we will add a mechanism to remove bad movies and return movies which are popular and have had a good critical response.\n",
    "\n",
    "I will take the top 25 movies based on similarity scores and calculate the vote of the 60th percentile movie. Then, using this as the value of $m$, we will calculate the weighted rating of each movie using IMDB's formula like we did in the Simple Recommender section."
   ]
  },
  {
   "cell_type": "code",
   "execution_count": null,
   "id": "8ce06af4",
   "metadata": {
    "_cell_guid": "1b5f0675-caa1-41bf-8a9a-ba89b0e07872",
    "_uuid": "0a7cc50433dcd13586dc1ee825b0880ad0c83869",
    "papermill": {
     "duration": null,
     "end_time": null,
     "exception": null,
     "start_time": null,
     "status": "pending"
    },
    "tags": []
   },
   "outputs": [],
   "source": [
    "def improved_recommendations(title):\n",
    "    idx = indices[title]\n",
    "    sim_scores = list(enumerate(cosine_sim[idx]))\n",
    "    sim_scores = sorted(sim_scores, key=lambda x: x[1], reverse=True)\n",
    "    sim_scores = sim_scores[1:26]\n",
    "    movie_indices = [i[0] for i in sim_scores]\n",
    "    \n",
    "    movies = smd.iloc[movie_indices][['title', 'vote_count', 'vote_average', 'year']]\n",
    "    vote_counts = movies[movies['vote_count'].notnull()]['vote_count'].astype('int')\n",
    "    vote_averages = movies[movies['vote_average'].notnull()]['vote_average'].astype('int')\n",
    "    C = vote_averages.mean()\n",
    "    m = vote_counts.quantile(0.60)\n",
    "    qualified = movies[(movies['vote_count'] >= m) & (movies['vote_count'].notnull()) & (movies['vote_average'].notnull())]\n",
    "    qualified['vote_count'] = qualified['vote_count'].astype('int')\n",
    "    qualified['vote_average'] = qualified['vote_average'].astype('int')\n",
    "    qualified['wr'] = qualified.apply(weighted_rating, axis=1)\n",
    "    qualified = qualified.sort_values('wr', ascending=False).head(10)\n",
    "    return qualified"
   ]
  },
  {
   "cell_type": "code",
   "execution_count": null,
   "id": "c4f9ba85",
   "metadata": {
    "_cell_guid": "7f4ce0f9-ebc0-464d-a3d4-084f156d02b4",
    "_uuid": "c36a9662253e9a6bb1ae008e6cabd8dee7aaaa73",
    "papermill": {
     "duration": null,
     "end_time": null,
     "exception": null,
     "start_time": null,
     "status": "pending"
    },
    "tags": []
   },
   "outputs": [],
   "source": [
    "improved_recommendations('The Dark Knight')"
   ]
  },
  {
   "cell_type": "markdown",
   "id": "0004829f",
   "metadata": {
    "papermill": {
     "duration": null,
     "end_time": null,
     "exception": null,
     "start_time": null,
     "status": "pending"
    },
    "tags": []
   },
   "source": [
    "Let me also get the recommendations for **Mean Girls**, my girlfriend's favorite movie."
   ]
  },
  {
   "cell_type": "code",
   "execution_count": null,
   "id": "6a5c25be",
   "metadata": {
    "_cell_guid": "69a93363-d82c-47e3-94fc-d59a219a4f3a",
    "_uuid": "a04523fa7c17a9ae25d5fcade4c817d35e8b6f19",
    "papermill": {
     "duration": null,
     "end_time": null,
     "exception": null,
     "start_time": null,
     "status": "pending"
    },
    "tags": []
   },
   "outputs": [],
   "source": [
    "improved_recommendations('Mean Girls')"
   ]
  },
  {
   "cell_type": "markdown",
   "id": "028b07d4",
   "metadata": {
    "_cell_guid": "c43b2445-0b09-4eaf-8a93-6c5037fae0ad",
    "_uuid": "f8561762c1e258f52ab2c662f1eb3d5f695316b2",
    "papermill": {
     "duration": null,
     "end_time": null,
     "exception": null,
     "start_time": null,
     "status": "pending"
    },
    "tags": []
   },
   "source": [
    "Unfortunately, **Batman and Robin** does not disappear from our recommendation list. This is probably due to the fact that it is rated a 4, which is only slightly below average on TMDB. It certainly doesn't deserve a 4 when amazing movies like **The Dark Knight Rises** has only a 7. However, there is nothing much we can do about this. Therefore, we will conclude our Content Based Recommender section here and come back to it when we build a hybrid engine."
   ]
  },
  {
   "cell_type": "markdown",
   "id": "812cce55",
   "metadata": {
    "_cell_guid": "a9a16fac-217d-4b36-b280-ca250ee921fe",
    "_uuid": "ddc06567eb0fe770c7f3b77f3cb7b777a6923f5c",
    "papermill": {
     "duration": null,
     "end_time": null,
     "exception": null,
     "start_time": null,
     "status": "pending"
    },
    "tags": []
   },
   "source": [
    "## Collaborative Filtering\n",
    "\n",
    "Our content based engine suffers from some severe limitations. It is only capable of suggesting movies which are *close* to a certain movie. That is, it is not capable of capturing tastes and providing recommendations across genres.\n",
    "\n",
    "Also, the engine that we built is not really personal in that it doesn't capture the personal tastes and biases of a user. Anyone querying our engine for recommendations based on a movie will receive the same recommendations for that movie, regardless of who s/he is.\n",
    "\n",
    "Therefore, in this section, we will use a technique called **Collaborative Filtering** to make recommendations to Movie Watchers. Collaborative Filtering is based on the idea that users similar to a me can be used to predict how much I will like a particular product or service those users have used/experienced but I have not.\n",
    "\n",
    "I will not be implementing Collaborative Filtering from scratch. Instead, I will use the **Surprise** library that used extremely powerful algorithms like **Singular Value Decomposition (SVD)** to minimise RMSE (Root Mean Square Error) and give great recommendations."
   ]
  },
  {
   "cell_type": "code",
   "execution_count": null,
   "id": "251fe96b",
   "metadata": {
    "_cell_guid": "632e75c9-0068-456a-82d5-8a8eb44e98df",
    "_uuid": "de715e5b70a605e3bd65ad50bbfa9b71aac1aef4",
    "papermill": {
     "duration": null,
     "end_time": null,
     "exception": null,
     "start_time": null,
     "status": "pending"
    },
    "tags": []
   },
   "outputs": [],
   "source": [
    "reader = Reader()"
   ]
  },
  {
   "cell_type": "code",
   "execution_count": null,
   "id": "de070afb",
   "metadata": {
    "_cell_guid": "7b7a10d4-4f72-4c07-a514-ae5c2f0663a9",
    "_uuid": "18c484e823d3c4c1bbb91a5aa708e277c97cdaf1",
    "papermill": {
     "duration": null,
     "end_time": null,
     "exception": null,
     "start_time": null,
     "status": "pending"
    },
    "tags": []
   },
   "outputs": [],
   "source": [
    "ratings = pd.read_csv('../input/ratings_small.csv')\n",
    "ratings.head()"
   ]
  },
  {
   "cell_type": "code",
   "execution_count": null,
   "id": "1b96b85e",
   "metadata": {
    "_cell_guid": "f2f755fd-c3ef-4095-add8-f88350cf1b36",
    "_uuid": "daa1711d353573b2dcf5145f1882397a2adcab27",
    "papermill": {
     "duration": null,
     "end_time": null,
     "exception": null,
     "start_time": null,
     "status": "pending"
    },
    "tags": []
   },
   "outputs": [],
   "source": [
    "data = Dataset.load_from_df(ratings[['userId', 'movieId', 'rating']], reader)\n",
    "data.split(n_folds=5)"
   ]
  },
  {
   "cell_type": "code",
   "execution_count": null,
   "id": "3a6e0341",
   "metadata": {
    "_cell_guid": "41ca3304-0fa5-401d-8c20-48b5c7cfb0d4",
    "_uuid": "edc105b14d9331d3adb44155c881670c5afacc41",
    "papermill": {
     "duration": null,
     "end_time": null,
     "exception": null,
     "start_time": null,
     "status": "pending"
    },
    "tags": []
   },
   "outputs": [],
   "source": [
    "svd = SVD()\n",
    "evaluate(svd, data, measures=['RMSE', 'MAE'])"
   ]
  },
  {
   "cell_type": "markdown",
   "id": "d5a3b31f",
   "metadata": {
    "_cell_guid": "0ac7021a-9174-48bd-a1ca-5ab227409963",
    "_uuid": "6f3d3cd411dc437a28ddbd184e77d9229bf224a2",
    "papermill": {
     "duration": null,
     "end_time": null,
     "exception": null,
     "start_time": null,
     "status": "pending"
    },
    "tags": []
   },
   "source": [
    "We get a mean **Root Mean Sqaure Error** of 0.8963 which is more than good enough for our case. Let us now train on our dataset and arrive at predictions."
   ]
  },
  {
   "cell_type": "code",
   "execution_count": null,
   "id": "1f8ebfc5",
   "metadata": {
    "_cell_guid": "b39199fa-a02c-4509-852d-85020b36424d",
    "_uuid": "b588afd2750b0ba0793b953edac8c366222f8500",
    "papermill": {
     "duration": null,
     "end_time": null,
     "exception": null,
     "start_time": null,
     "status": "pending"
    },
    "tags": []
   },
   "outputs": [],
   "source": [
    "trainset = data.build_full_trainset()\n",
    "svd.train(trainset)"
   ]
  },
  {
   "cell_type": "markdown",
   "id": "55593111",
   "metadata": {
    "_cell_guid": "9d6653dc-7ad4-4c78-9c50-bbfe988b4397",
    "_uuid": "f9fc5344c7545c16539aa0966f62b59be1761f34",
    "papermill": {
     "duration": null,
     "end_time": null,
     "exception": null,
     "start_time": null,
     "status": "pending"
    },
    "tags": []
   },
   "source": [
    "Let us pick user 5000 and check the ratings s/he has given."
   ]
  },
  {
   "cell_type": "code",
   "execution_count": null,
   "id": "6105be47",
   "metadata": {
    "_cell_guid": "b57dd617-c9aa-4928-a7de-c6b7036cc07b",
    "_uuid": "2307233c3213417079c46fcfaaf2638ef1f0059f",
    "papermill": {
     "duration": null,
     "end_time": null,
     "exception": null,
     "start_time": null,
     "status": "pending"
    },
    "tags": []
   },
   "outputs": [],
   "source": [
    "ratings[ratings['userId'] == 1]"
   ]
  },
  {
   "cell_type": "code",
   "execution_count": null,
   "id": "2a4014d5",
   "metadata": {
    "_cell_guid": "e0701e4b-dde1-4791-b96e-faa4ae40df8e",
    "_uuid": "9c22aa0cc39595a4414d227a284f92b382eab67a",
    "papermill": {
     "duration": null,
     "end_time": null,
     "exception": null,
     "start_time": null,
     "status": "pending"
    },
    "tags": []
   },
   "outputs": [],
   "source": [
    "svd.predict(1, 302, 3)"
   ]
  },
  {
   "cell_type": "markdown",
   "id": "26530fe6",
   "metadata": {
    "_cell_guid": "42878787-6661-4d30-b58a-c5408e683157",
    "_uuid": "ba08a1dc335c8662f4bec66cec36fef04b2c63b5",
    "papermill": {
     "duration": null,
     "end_time": null,
     "exception": null,
     "start_time": null,
     "status": "pending"
    },
    "tags": []
   },
   "source": [
    "For movie with ID 302, we get an estimated prediction of **2.686**. One startling feature of this recommender system is that it doesn't care what the movie is (or what it contains). It works purely on the basis of an assigned movie ID and tries to predict ratings based on how the other users have predicted the movie."
   ]
  },
  {
   "cell_type": "markdown",
   "id": "b12ff16c",
   "metadata": {
    "_cell_guid": "a22740ea-3bfd-4045-89f3-e4199b0c2c6a",
    "_uuid": "0bbff42606aede898eb199443c8c0c5e39a48650",
    "papermill": {
     "duration": null,
     "end_time": null,
     "exception": null,
     "start_time": null,
     "status": "pending"
    },
    "tags": []
   },
   "source": [
    "In this section, I will try to build a simple hybrid recommender that brings together techniques we have implemented in the content based and collaborative filter based engines. This is how it will work:\n",
    "\n",
    "* **Input:** User ID and the Title of a Movie\n",
    "* **Output:** Similar movies sorted on the basis of expected ratings by that particular user."
   ]
  },
  {
   "cell_type": "code",
   "execution_count": null,
   "id": "ced3ca9f",
   "metadata": {
    "_cell_guid": "97a7efdb-9b93-4ed2-ac89-45c2f99a7304",
    "_uuid": "299a5feac15cdb6fd01f4e243949ba2424f5901c",
    "papermill": {
     "duration": null,
     "end_time": null,
     "exception": null,
     "start_time": null,
     "status": "pending"
    },
    "tags": []
   },
   "outputs": [],
   "source": [
    "def convert_int(x):\n",
    "    try:\n",
    "        return int(x)\n",
    "    except:\n",
    "        return np.nan"
   ]
  },
  {
   "cell_type": "code",
   "execution_count": null,
   "id": "16db1f66",
   "metadata": {
    "_cell_guid": "aae5c254-a6e7-40b3-bbda-b97a2d285ecd",
    "_uuid": "1d5f8381c8951f51e9e30d30a771fc7ded9761a2",
    "papermill": {
     "duration": null,
     "end_time": null,
     "exception": null,
     "start_time": null,
     "status": "pending"
    },
    "tags": []
   },
   "outputs": [],
   "source": [
    "id_map = pd.read_csv('../input/links_small.csv')[['movieId', 'tmdbId']]\n",
    "id_map['tmdbId'] = id_map['tmdbId'].apply(convert_int)\n",
    "id_map.columns = ['movieId', 'id']\n",
    "id_map = id_map.merge(smd[['title', 'id']], on='id').set_index('title')\n",
    "#id_map = id_map.set_index('tmdbId')"
   ]
  },
  {
   "cell_type": "code",
   "execution_count": null,
   "id": "7e4e55b0",
   "metadata": {
    "_cell_guid": "07adb6c6-af45-47cb-ae9f-6ab64f64e3e4",
    "_uuid": "c2c54697ee62ecb46fdb33ffb53dcc27e5397253",
    "papermill": {
     "duration": null,
     "end_time": null,
     "exception": null,
     "start_time": null,
     "status": "pending"
    },
    "tags": []
   },
   "outputs": [],
   "source": [
    "indices_map = id_map.set_index('id')"
   ]
  },
  {
   "cell_type": "code",
   "execution_count": null,
   "id": "db04ae2d",
   "metadata": {
    "_cell_guid": "46b03dde-afd4-45c3-a733-7ad894a31edb",
    "_uuid": "92291dbdbd9c9161d500476609c9cf95247e2b24",
    "papermill": {
     "duration": null,
     "end_time": null,
     "exception": null,
     "start_time": null,
     "status": "pending"
    },
    "tags": []
   },
   "outputs": [],
   "source": [
    "def hybrid(userId, title):\n",
    "    idx = indices[title]\n",
    "    tmdbId = id_map.loc[title]['id']\n",
    "    #print(idx)\n",
    "    movie_id = id_map.loc[title]['movieId']\n",
    "    \n",
    "    sim_scores = list(enumerate(cosine_sim[int(idx)]))\n",
    "    sim_scores = sorted(sim_scores, key=lambda x: x[1], reverse=True)\n",
    "    sim_scores = sim_scores[1:26]\n",
    "    movie_indices = [i[0] for i in sim_scores]\n",
    "    \n",
    "    movies = smd.iloc[movie_indices][['title', 'vote_count', 'vote_average', 'year', 'id']]\n",
    "    movies['est'] = movies['id'].apply(lambda x: svd.predict(userId, indices_map.loc[x]['movieId']).est)\n",
    "    movies = movies.sort_values('est', ascending=False)\n",
    "    return movies.head(10)"
   ]
  },
  {
   "cell_type": "code",
   "execution_count": null,
   "id": "61975c9b",
   "metadata": {
    "_cell_guid": "ef53f237-5dd0-4f62-8c32-e9666b2268f5",
    "_uuid": "5cea2292f710fae80d580aa43c713531e97451ad",
    "papermill": {
     "duration": null,
     "end_time": null,
     "exception": null,
     "start_time": null,
     "status": "pending"
    },
    "tags": []
   },
   "outputs": [],
   "source": [
    "hybrid(1, 'Avatar')"
   ]
  },
  {
   "cell_type": "code",
   "execution_count": null,
   "id": "631255ef",
   "metadata": {
    "_cell_guid": "381aba27-ecfa-43f1-9dad-c3379a57b8d9",
    "_uuid": "7fc2843807a5fbe792729eee7c74e9cabc6867ca",
    "papermill": {
     "duration": null,
     "end_time": null,
     "exception": null,
     "start_time": null,
     "status": "pending"
    },
    "tags": []
   },
   "outputs": [],
   "source": [
    "hybrid(500, 'Avatar')"
   ]
  },
  {
   "cell_type": "markdown",
   "id": "f8db9515",
   "metadata": {
    "_cell_guid": "ca97ebb9-d1d2-4631-a15e-d29580c6c4d1",
    "_uuid": "446cdfa0b07f4f734d483393d56735c280978555",
    "papermill": {
     "duration": null,
     "end_time": null,
     "exception": null,
     "start_time": null,
     "status": "pending"
    },
    "tags": []
   },
   "source": [
    "We see that for our hybrid recommender, we get different recommendations for different users although the movie is the same. Hence, our recommendations are more personalized and tailored towards particular users."
   ]
  },
  {
   "cell_type": "code",
   "execution_count": null,
   "id": "1a169c09",
   "metadata": {
    "_cell_guid": "304b0809-4070-4954-99ed-203a4b8b6956",
    "_uuid": "e53889f19f6d352bb0418567941dff8f9e57da41",
    "collapsed": true,
    "jupyter": {
     "outputs_hidden": true
    },
    "papermill": {
     "duration": null,
     "end_time": null,
     "exception": null,
     "start_time": null,
     "status": "pending"
    },
    "tags": []
   },
   "outputs": [],
   "source": []
  }
 ],
 "metadata": {
  "kernelspec": {
   "display_name": "Python 3.8.5 ('base')",
   "language": "python",
   "name": "python3"
  },
  "language_info": {
   "codemirror_mode": {
    "name": "ipython",
    "version": 3
   },
   "file_extension": ".py",
   "mimetype": "text/x-python",
   "name": "python",
   "nbconvert_exporter": "python",
   "pygments_lexer": "ipython3",
   "version": "3.8.5"
  },
  "papermill": {
   "default_parameters": {},
   "duration": 17.208655,
   "end_time": "2023-02-28T07:36:37.817407",
   "environment_variables": {},
   "exception": true,
   "input_path": "__notebook__.ipynb",
   "output_path": "__notebook__.ipynb",
   "parameters": {},
   "start_time": "2023-02-28T07:36:20.608752",
   "version": "2.4.0"
  },
  "vscode": {
   "interpreter": {
    "hash": "a443551c663d8cdf7885df51bbd2bb3e873d6ac8a180043331f81b526d734c0d"
   }
  }
 },
 "nbformat": 4,
 "nbformat_minor": 5
}
